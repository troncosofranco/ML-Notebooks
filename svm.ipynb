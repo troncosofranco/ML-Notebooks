{
 "cells": [
  {
   "cell_type": "code",
   "execution_count": null,
   "id": "447acff8-dd52-4c28-bb77-7c05b730224f",
   "metadata": {},
   "outputs": [],
   "source": [
    "import numpy as np\n",
    "import matplotlib.pyplot as plt\n",
    "from sklearn.neighbors import KNeighborsClassifier\n",
    "from sklearn.svm import SVC\n",
    "from sklearn.model_selection import train_test_split"
   ]
  },
  {
   "cell_type": "code",
   "execution_count": 2,
   "id": "25c73e78-3cb1-4779-b653-70dcdf3aa0f9",
   "metadata": {},
   "outputs": [
    {
     "name": "stdout",
     "output_type": "stream",
     "text": [
      "{'green people': [[70, 33], [46, 9], [3, 77], [85, 89], [31, 23], [20, 99], [75, 94], [28, 66], [44, 92], [46, 13]], 'red people': [[89, 83], [113, 67], [121, 54], [144, 52], [134, 140], [94, 104], [80, 103], [70, 97], [83, 104], [144, 149]], 'colour': [0.0, 0.0, 0.0, 0.0, 0.0, 0.0, 0.0, 0.0, 0.0, 0.0, 1.0, 1.0, 1.0, 1.0, 1.0, 1.0, 1.0, 1.0, 1.0, 1.0]}\n"
     ]
    }
   ],
   "source": [
    "#Create data to be used (samples will be multipleoed by 2)\n",
    "def create_samples(samples):\n",
    "    green_people = np.random.randint(0,100, size= (samples,2)).tolist()\n",
    "    red_people = np.random.randint(50,150, size= (samples,2)).tolist()\n",
    "    \n",
    "    #Tell to the program that 0: green_people and 1: red_people\n",
    "    colour = np.concatenate((np.zeros(samples), np.ones(samples))).flatten().tolist()\n",
    "    \n",
    "    return {'green people':green_people, 'red people':red_people, 'colour': colour}\n",
    "\n",
    "print(create_samples(10))\n",
    "    "
   ]
  },
  {
   "cell_type": "code",
   "execution_count": 24,
   "id": "45aa2af4-f34f-4cab-aeee-d9dc8245a317",
   "metadata": {},
   "outputs": [
    {
     "name": "stdout",
     "output_type": "stream",
     "text": [
      "SVC score:  0.875\n",
      "KNN score:  0.8\n",
      "SCV: 1 Red\n",
      "KNN: 0 Green\n"
     ]
    },
    {
     "data": {
      "image/png": "[encoded data removed]",
      "text/plain": [
       "<Figure size 432x288 with 1 Axes>"
      ]
     },
     "metadata": {
      "needs_background": "light"
     },
     "output_type": "display_data"
    }
   ],
   "source": [
    "#SVM function\n",
    "def determine_colour(a,b):\n",
    "    #Prepare data\n",
    "    data = create_samples(100)\n",
    "    green_people, red_people = data['green people'], data['red people'] \n",
    "    \n",
    "    people = green_people + red_people\n",
    "    colour = data['colour']\n",
    "    \n",
    "    #Get data\n",
    "    X = np.array(people).tolist()\n",
    "    y = np.array(colour).tolist()\n",
    "    \n",
    "    #Split data to train and test\n",
    "    X_train, X_test, y_train, y_test = train_test_split (X, y, test_size = 0.2)\n",
    "    \n",
    "    #Create Supert Vector Machine & KNN classifier (models)\n",
    "    clf = SVC(kernel='linear', C=5)\n",
    "    knn = KNeighborsClassifier(n_neighbors=15)\n",
    "    \n",
    "    #Fit the data\n",
    "    clf.fit(X_train,y_train)\n",
    "    knn.fit(X_train,y_train)\n",
    "    \n",
    "    #Print the score of the model\n",
    "    print('SVC score: ', clf.score(X_test, y_test))\n",
    "    print('KNN score: ', knn.score(X_test, y_test))\n",
    "    \n",
    "    #Predict the output to data input\n",
    "    prediction_clf = clf.predict([[a,b]])\n",
    "    prediction_knn = knn.predict([[a,b]])\n",
    "    \n",
    "    #convert to int\n",
    "    clf_value, knn_value = int(prediction_clf[0]) , int(prediction_knn[0])\n",
    "    \n",
    "    #Print the prediction for both algoritms\n",
    "    print(f'SCV: {clf_value}', 'Red' if clf_value == 1 else 'Green')\n",
    "    print(f'KNN: {knn_value}', 'Red' if knn_value == 1 else 'Green')\n",
    "    \n",
    "    #Colour the plots and scatter them\n",
    "    red_scatter = [np.array(red_people)[:,0], np.array(red_people)[:,1]]\n",
    "    green_scatter = [np.array(green_people)[:, 0], np.array(green_people)[:, 1]]\n",
    "                     \n",
    "    plt.scatter(red_scatter[0],red_scatter[1], c='r')\n",
    "    plt.scatter(green_scatter[0],green_scatter[1], c='g')     \n",
    "    \n",
    "    #Get the support vectors\n",
    "    support_vectors = clf.support_vectors_\n",
    "    plt.scatter(support_vectors[:,0],support_vectors[:,1], c='b', marker='o')\n",
    "    \n",
    "    #Plot data input [a,b]\n",
    "    plt.scatter(a,b, color='black', s=150, marker='X')\n",
    "    \n",
    "determine_colour(80,80)\n",
    "    "
   ]
  },
  {
   "cell_type": "code",
   "execution_count": null,
   "id": "2d07fe72-8a12-498a-91ac-8cc7679d38f9",
   "metadata": {},
   "outputs": [],
   "source": []
  }
 ],
 "metadata": {
  "kernelspec": {
   "display_name": "Python 3",
   "language": "python",
   "name": "python3"
  },
  "language_info": {
   "codemirror_mode": {
    "name": "ipython",
    "version": 3
   },
   "file_extension": ".py",
   "mimetype": "text/x-python",
   "name": "python",
   "nbconvert_exporter": "python",
   "pygments_lexer": "ipython3",
   "version": "3.8.8"
  }
 },
 "nbformat": 4,
 "nbformat_minor": 5
}
