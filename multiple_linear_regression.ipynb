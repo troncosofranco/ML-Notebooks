{
 "cells": [
  {
   "cell_type": "code",
   "execution_count": 6,
   "id": "f9c7154f-92e7-46e5-8671-d67694a1d860",
   "metadata": {},
   "outputs": [],
   "source": [
    "import numpy as np\n",
    "import pandas as pd\n",
    "import matplotlib.pyplot as plt\n",
    "from sklearn.linear_model import LinearRegression\n",
    "from sklearn.metrics import mean_absolute_error, r2_score\n",
    "from sklearn.model_selection import train_test_split"
   ]
  },
  {
   "cell_type": "code",
   "execution_count": 15,
   "id": "714d8590-b2c5-4392-becd-f74ae3cd22c7",
   "metadata": {},
   "outputs": [
    {
     "name": "stdout",
     "output_type": "stream",
     "text": [
      "The prediction is:  [[661.76470588]]\n",
      "MAE of the model: 99.02167182662555\n",
      "r2:  0.9443717929298707\n"
     ]
    }
   ],
   "source": [
    "#Prediction function\n",
    "def predict_distance(fuel_consumption_l, percent_electric):\n",
    "    #Data\n",
    "    raw_data = {\n",
    "        'fuel_consumption_l': [1, 2, 2, 3, 4, 5, 6],\n",
    "        'percent_electric': [.20, .20, .60, .90, .90, .50, .90],\n",
    "        'total_distance_km': [200, 240, 560, 990, 1200, 800, 1400]\n",
    "    }\n",
    "    \n",
    "    df = pd.DataFrame(raw_data)\n",
    "    \n",
    "    #Get data -> numpy array and horizontal to vertical (reshape(-1,1))\n",
    "    X = np.array(df[['fuel_consumption_l','percent_electric']]) #[[]]: Doble corchete -> arreglo de dos variables\n",
    "    y = np.array(df['total_distance_km']).reshape(-1,1)\n",
    "    \n",
    "    #Split training and test dataset\n",
    "    X_train, X_test, y_train, y_test = train_test_split(X, y, random_state = 0, test_size = 0.2) #random_state=0 -> same training values in each run\n",
    "    \n",
    "    #Defining model model\n",
    "    model = LinearRegression()\n",
    "    \n",
    "    #Model fit\n",
    "    model.fit(X_train, y_train)\n",
    "    \n",
    "    #Make the prediction -> [[years_of_experience]]: 2d array\n",
    "    y_prediction = model.predict([[fuel_consumption_l, percent_electric]])\n",
    "    print('The prediction is: ', y_prediction)\n",
    "    \n",
    "    #Model accuracy\n",
    "    y_test_prediction = model.predict(X_test)\n",
    "    \n",
    "    MAE = mean_absolute_error(y_test,  y_test_prediction)\n",
    "    print('MAE of the model: ' + str(MAE))\n",
    "    print('r2: ', r2_score(y_test,  y_test_prediction))\n",
    "\n",
    "        \n",
    "predict_distance(2, 0.6)    \n",
    "    "
   ]
  },
  {
   "cell_type": "code",
   "execution_count": null,
   "id": "b38cb700-be81-447a-90bb-a5a3a8a82e4f",
   "metadata": {},
   "outputs": [],
   "source": []
  },
  {
   "cell_type": "code",
   "execution_count": null,
   "id": "c9f63c81-7864-4173-ae4a-95ebfe79fd06",
   "metadata": {},
   "outputs": [],
   "source": []
  }
 ],
 "metadata": {
  "kernelspec": {
   "display_name": "Python 3",
   "language": "python",
   "name": "python3"
  },
  "language_info": {
   "codemirror_mode": {
    "name": "ipython",
    "version": 3
   },
   "file_extension": ".py",
   "mimetype": "text/x-python",
   "name": "python",
   "nbconvert_exporter": "python",
   "pygments_lexer": "ipython3",
   "version": "3.8.8"
  }
 },
 "nbformat": 4,
 "nbformat_minor": 5
}
