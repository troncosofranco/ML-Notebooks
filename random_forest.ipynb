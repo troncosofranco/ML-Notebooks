{
 "cells": [
  {
   "cell_type": "code",
   "execution_count": 1,
   "id": "c132c649-9da9-4072-a6bb-ed33a0157298",
   "metadata": {},
   "outputs": [],
   "source": [
    "#ramdom forest -> Usa árbol de decisión aleaotorio o para clasificar objetos\n",
    "\n",
    "import numpy as np\n",
    "import pandas as pd\n",
    "from sklearn.model_selection import train_test_split\n",
    "from sklearn.preprocessing import LabelEncoder\n",
    "from sklearn import tree\n",
    "from sklearn.ensemble import RandomForestClassifier"
   ]
  },
  {
   "cell_type": "code",
   "execution_count": 2,
   "id": "a058661d-64ff-4a9f-968d-ff324c8f96b7",
   "metadata": {},
   "outputs": [
    {
     "name": "stdout",
     "output_type": "stream",
     "text": [
      "Score (Tree):  1.0\n",
      "Score (Forest):  1.0\n",
      "0\n",
      "No wine for me today\n"
     ]
    }
   ],
   "source": [
    "def wine_decision(wine_type, score, price): \n",
    "    #Factores de decision\n",
    "    #raw data\n",
    "    raw_data = {\n",
    "    'wine': ['Red','Red','Red','White','White','White'],\n",
    "    'score': ['High','High','Low','High', 'Low', 'Low' ],\n",
    "    'price': ['High', 'Low', 'Low','Low', 'High','Low'],\n",
    "    'bought': ['Yes','Yes','No','Yes', 'No', 'No']\n",
    "    }\n",
    "    \n",
    "    df = pd.DataFrame(raw_data)\n",
    "       \n",
    "    #Encode the parameter: string -> number\n",
    "    lb = LabelEncoder()\n",
    "    en_wine, en_score, en_price = lb.fit_transform(df.wine), lb.fit_transform(df.score), lb.fit_transform(df.price)\n",
    "    \n",
    "    #Encode output\n",
    "    en_bought = lb.fit_transform(df.bought)\n",
    "    \n",
    "    transl = {\n",
    "        'Red': 0, 'White': 1,\n",
    "        'High': 0, 'Low': 1,\n",
    "        'Yes':0, 'No': 1\n",
    "        }\n",
    "    \n",
    "    #Combine the parameters\n",
    "    features = list(zip(en_wine, en_score, en_price))\n",
    "    \n",
    "    #Input and output\n",
    "    X = np.array(features)\n",
    "    y = np.array(en_bought)\n",
    "    \n",
    "    #Split data to train and test\n",
    "    X_train, X_test, y_train, y_test = train_test_split (X, y, test_size = 0.2)\n",
    "    \n",
    "    #model\n",
    "    clf = tree.DecisionTreeClassifier()\n",
    "    rf_clf = RandomForestClassifier(n_estimators=10)\n",
    "    clf.fit(X, y) \n",
    "    rf_clf.fit(X, y) \n",
    "    \n",
    "    #print core\n",
    "    print('Score (Tree): ', clf.score(X,y)) #Few value\n",
    "    print('Score (Forest): ', rf_clf.score(X,y))\n",
    "    \n",
    "    #Prediction\n",
    "    prediction = rf_clf.predict([[transl[wine_type],transl[score], transl[price]]])\n",
    "    value = int(prediction[0])\n",
    "    print(value)\n",
    "    print('I buy the wine.' if value == 1 else 'No wine for me today')\n",
    "\n",
    "wine_decision('White', 'Low', 'Low')"
   ]
  },
  {
   "cell_type": "code",
   "execution_count": null,
   "id": "b716baf3-0150-4b37-b0c3-03263a763092",
   "metadata": {},
   "outputs": [],
   "source": []
  },
  {
   "cell_type": "code",
   "execution_count": null,
   "id": "82c8549c-c7ac-4a13-84f0-7fa8b38cdad9",
   "metadata": {},
   "outputs": [],
   "source": []
  }
 ],
 "metadata": {
  "kernelspec": {
   "display_name": "Python 3",
   "language": "python",
   "name": "python3"
  },
  "language_info": {
   "codemirror_mode": {
    "name": "ipython",
    "version": 3
   },
   "file_extension": ".py",
   "mimetype": "text/x-python",
   "name": "python",
   "nbconvert_exporter": "python",
   "pygments_lexer": "ipython3",
   "version": "3.8.8"
  }
 },
 "nbformat": 4,
 "nbformat_minor": 5
}
