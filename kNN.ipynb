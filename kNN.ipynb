{
 "cells": [
  {
   "cell_type": "code",
   "execution_count": 1,
   "id": "df71b82d-a96d-4d1b-bcef-74dfd8d8331f",
   "metadata": {},
   "outputs": [],
   "source": [
    "import numpy as np\n",
    "import matplotlib.pyplot as plt\n",
    "from sklearn.neighbors import KNeighborsClassifier\n",
    "from sklearn.model_selection import train_test_split"
   ]
  },
  {
   "cell_type": "code",
   "execution_count": 4,
   "id": "83efe2b5-4bfc-46bd-9470-254876eb1b33",
   "metadata": {},
   "outputs": [
    {
     "name": "stdout",
     "output_type": "stream",
     "text": [
      "Score:  0.5\n",
      "Prediction: 1 Fit\n"
     ]
    },
    {
     "data": {
      "image/png": "[encoded data removed]",
      "text/plain": [
       "<Figure size 432x288 with 1 Axes>"
      ]
     },
     "metadata": {
      "needs_background": "light"
     },
     "output_type": "display_data"
    }
   ],
   "source": [
    "def fitness_analyser(height, weight):\n",
    "    #Raw data [[]]: 2d array [height, weight]\n",
    "    overweight_people = [[100, 90], [120, 100], [200, 175], [80, 100], [40, 60]]\n",
    "    fit_people = [[60, 175], [90, 190], [80, 180], [50, 140], [30, 120]]\n",
    "    \n",
    "    people = overweight_people + fit_people\n",
    "    is_fit = [1, 1, 1, 1, 1, 0, 0, 0, 0, 0]\n",
    "    \n",
    "    #Input (X) and output (y)\n",
    "    X = np.array(people)\n",
    "    y = np.array(is_fit)\n",
    "    \n",
    "    #Split training and test dataset\n",
    "    X_train, X_test, y_train, y_test = train_test_split(X, y, random_state=0, test_size= 0.2)\n",
    "    \n",
    "    #Create and fit the model\n",
    "    model = KNeighborsClassifier(n_neighbors=3) # n_neighbors: cantidad de vecinos para decisión del algoritmo\n",
    "    model.fit(X_train, y_train)\n",
    "    \n",
    "    #Print the score of the model\n",
    "    print('Score: ', model.score(X_test, y_test))\n",
    "    \n",
    "    #Prediction of user values\n",
    "    prediction = model.predict([[height, weight]]) #[[height, weight]] -> 2d array\n",
    "    \n",
    "    #Translate the prediction to decision\n",
    "    print(f'Prediction: {prediction[0]}', 'Fit' if prediction[0] == 1 else 'Fat') #[0] -> Fat [1], -> fit\n",
    "\n",
    "    # Splits the data to be plotted\n",
    "    overweight_people_scatter = [np.array(overweight_people)[:, 0], np.array(overweight_people)[:, 1]] #Toma cada peso y altura de  la data\n",
    "    fit_people_scatter = [np.array(fit_people)[:, 0], np.array(fit_people)[:, 1]]\n",
    "    \n",
    "    # Scatters the data in colour\n",
    "    plt.scatter( overweight_people_scatter[0],  overweight_people_scatter[1], color='r')\n",
    "    plt.scatter(fit_people_scatter[0], fit_people_scatter[1], color='g')\n",
    "    \n",
    "    #Plots the input\n",
    "    plt.scatter(weight, height, color='black', s=100)\n",
    "    plt.ylabel('Height')\n",
    "    plt.xlabel('Weight')\n",
    "    plt.show()\n",
    "    \n",
    "    \n",
    "fitness_analyser(170, 85)\n",
    "    \n",
    "    \n",
    "    \n",
    "    \n",
    "    "
   ]
  },
  {
   "cell_type": "code",
   "execution_count": null,
   "id": "c1ac2741-38c1-4453-80b3-b42fbe090c80",
   "metadata": {},
   "outputs": [],
   "source": []
  },
  {
   "cell_type": "code",
   "execution_count": null,
   "id": "61284f0c-c861-4775-a9d0-ff928d6111a8",
   "metadata": {},
   "outputs": [],
   "source": []
  }
 ],
 "metadata": {
  "kernelspec": {
   "display_name": "Python 3",
   "language": "python",
   "name": "python3"
  },
  "language_info": {
   "codemirror_mode": {
    "name": "ipython",
    "version": 3
   },
   "file_extension": ".py",
   "mimetype": "text/x-python",
   "name": "python",
   "nbconvert_exporter": "python",
   "pygments_lexer": "ipython3",
   "version": "3.8.8"
  }
 },
 "nbformat": 4,
 "nbformat_minor": 5
}