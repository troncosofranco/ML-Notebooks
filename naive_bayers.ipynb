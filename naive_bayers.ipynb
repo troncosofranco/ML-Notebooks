{
 "cells": [
  {
   "cell_type": "code",
   "execution_count": 1,
   "id": "c8b2a69c-5ed2-4483-a62c-1d1f11eaeb75",
   "metadata": {},
   "outputs": [],
   "source": [
    "import numpy as np\n",
    "import pandas as pd\n",
    "from sklearn.naive_bayes import GaussianNB\n",
    "from sklearn.model_selection import train_test_split\n",
    "from sklearn.preprocessing import LabelEncoder"
   ]
  },
  {
   "cell_type": "code",
   "execution_count": 10,
   "id": "7f913191-5154-4ce8-a4bf-011388fcbb38",
   "metadata": {},
   "outputs": [
    {
     "name": "stdout",
     "output_type": "stream",
     "text": [
      "Score:  0.9\n",
      "It is Rainy and Cold. Go outside?\n",
      "Prediction:  No\n"
     ]
    }
   ],
   "source": [
    "#Prediction based on probability following normal distribution\n",
    "raw_data = {\n",
    "    'weather': ['Sunny', 'Sunny', 'Sunny', 'Rainy', 'Rainy', 'Rainy', 'Clear', 'Clear', 'Clear', 'Clear'],\n",
    "    'temp': ['Hot', 'Cold', 'Hot', 'Hot', 'Cold', 'Cold', 'Hot', 'Hot', 'Cold', 'Cold'],\n",
    "    'go_outside': ['Yes', 'Yes', 'Yes', 'Yes', 'No', 'No', 'Yes', 'Yes', 'No', 'No']\n",
    "}\n",
    "\n",
    "#Create function\n",
    "def predict_outside(now_weather, now_temp):\n",
    "    df = pd.DataFrame(raw_data)\n",
    "   \n",
    "    \n",
    "    #Encode the parameter: string -> number\n",
    "    lb = LabelEncoder()\n",
    "    en_weather, en_temp = lb.fit_transform(df.weather), lb.fit_transform(df.temp)\n",
    "    \n",
    "    #Encode output\n",
    "    en_go = lb.fit_transform(df.go_outside)\n",
    "    \n",
    "    #Combine the parameters\n",
    "    features = tuple(zip(en_weather, en_temp))\n",
    "   \n",
    "    #Input and output\n",
    "    X = np.array(features)\n",
    "    y = np.array(en_go)\n",
    "    \n",
    "    #Split data to train and test\n",
    "    X_train, X_test, y_train, y_test = train_test_split (X, y, test_size = 0.2)\n",
    "    \n",
    "    #model\n",
    "    model = GaussianNB()\n",
    "    model.fit(X, y) \n",
    "    \n",
    "    \n",
    "    #print core\n",
    "    print('Score: ', model.score(X,y)) #Few value\n",
    "    \n",
    "    # Map the values to numbers\n",
    "    map_no = {'Sunny': 2, 'Rainy': 1, 'Clear': 0,\n",
    "              'Hot': 1, 'Cold': 0}\n",
    "\n",
    "    #Make the Prediction\n",
    "    prediction = model.predict([[map_no[now_weather], map_no[now_temp]]])\n",
    "    value = int(prediction[0])\n",
    "    print(f'It is {now_weather} and {now_temp}. Go outside?')\n",
    "    print('Prediction: ', 'Yes' if value == 1 else 'No')\n",
    "    \n",
    " \n",
    "    \n",
    "predict_outside('Rainy', 'Cold')\n",
    "    "
   ]
  },
  {
   "cell_type": "code",
   "execution_count": null,
   "id": "a9ab202c-0ca1-421a-a69f-e16015a994da",
   "metadata": {},
   "outputs": [],
   "source": []
  }
 ],
 "metadata": {
  "kernelspec": {
   "display_name": "Python 3",
   "language": "python",
   "name": "python3"
  },
  "language_info": {
   "codemirror_mode": {
    "name": "ipython",
    "version": 3
   },
   "file_extension": ".py",
   "mimetype": "text/x-python",
   "name": "python",
   "nbconvert_exporter": "python",
   "pygments_lexer": "ipython3",
   "version": "3.8.8"
  }
 },
 "nbformat": 4,
 "nbformat_minor": 5
}
