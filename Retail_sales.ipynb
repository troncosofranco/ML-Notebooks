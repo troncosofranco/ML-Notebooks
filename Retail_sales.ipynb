{
  "nbformat": 4,
  "nbformat_minor": 0,
  "metadata": {
    "colab": {
      "provenance": [],
      "authorship_tag": "ABX9TyNtVlc2PreL+K2QNlAhvygp",
      "include_colab_link": true
    },
    "kernelspec": {
      "name": "python3",
      "display_name": "Python 3"
    },
    "language_info": {
      "name": "python"
    }
  },
  "cells": [
    {
      "cell_type": "markdown",
      "metadata": {
        "id": "view-in-github",
        "colab_type": "text"
      },
      "source": [
        "<a href=\"https://colab.research.google.com/github/troncosofranco/ML-Notebooks/blob/main/Retail_sales.ipynb\" target=\"_parent\"><img src=\"https://colab.research.google.com/assets/colab-badge.svg\" alt=\"Open In Colab\"/></a>"
      ]
    },
    {
      "cell_type": "markdown",
      "source": [
        "#0. Contexto\n",
        "\n",
        "El cliente no ha compartido un set de datos con información parcial sobre los puntos de ventas de sus diferentes productos.\n",
        "\n",
        "La planta de galvanizado exporta la mayoría de sus productos via barco a su principal cliente en United Kindom. Sin embargo, las piezas son nuevamente revendidas a otros proveedores y/o consumidores finales.\n",
        "\n",
        "El distribuidor europeo ha compartido datos antiguos sobre la venta de los mismos. El objetivo es explorar este gran set de datos para obtener insigths.\n",
        "\n",
        "No tenemos toda la información completa y el precio de las unidades de tubería galvanizado deberia estar entre 1 y 5 U$d/ft.\n",
        "No tenemos la descripción de los productos y no se tiene certeza sobre la consistencia de los datos."
      ],
      "metadata": {
        "id": "wAFNQgDcv15j"
      }
    },
    {
      "cell_type": "markdown",
      "source": [
        "#1. Librerias"
      ],
      "metadata": {
        "id": "N5Fb3nlRx5a7"
      }
    },
    {
      "cell_type": "code",
      "source": [
        "!pip install pyspark"
      ],
      "metadata": {
        "colab": {
          "base_uri": "https://localhost:8080/"
        },
        "id": "t0s-X6AD3lqj",
        "outputId": "febfdfcd-f5af-4dee-d211-663d1626fc19"
      },
      "execution_count": null,
      "outputs": [
        {
          "output_type": "stream",
          "name": "stdout",
          "text": [
            "Requirement already satisfied: pyspark in /usr/local/lib/python3.10/dist-packages (3.5.1)\n",
            "Requirement already satisfied: py4j==0.10.9.7 in /usr/local/lib/python3.10/dist-packages (from pyspark) (0.10.9.7)\n"
          ]
        }
      ]
    },
    {
      "cell_type": "code",
      "execution_count": null,
      "metadata": {
        "id": "IZIn6MgVQWF1"
      },
      "outputs": [],
      "source": [
        "import numpy as np\n",
        "import pandas as pd\n",
        "import os\n",
        "\n",
        "import warnings\n",
        "warnings.filterwarnings('ignore')\n",
        "\n",
        "import pyspark.sql.functions as F\n",
        "from pyspark.sql.types import *\n",
        "from pyspark.sql import SparkSession"
      ]
    },
    {
      "cell_type": "code",
      "source": [
        "spark = SparkSession.builder.appName('Análisis de ventas').getOrCreate()"
      ],
      "metadata": {
        "id": "BKC2oiUi397J"
      },
      "execution_count": null,
      "outputs": []
    },
    {
      "cell_type": "markdown",
      "source": [
        "#2. Carga Dataset"
      ],
      "metadata": {
        "id": "kuRgJOZRx_8R"
      }
    },
    {
      "cell_type": "code",
      "source": [
        "df = spark.read.csv('online_retail_listing.csv',\\\n",
        "                            header = True,\n",
        "                            sep = ';',\n",
        "                            inferSchema = True)\n",
        "# check the data\n",
        "df.show(5)\n",
        "df.printSchema()"
      ],
      "metadata": {
        "colab": {
          "base_uri": "https://localhost:8080/"
        },
        "id": "z1391Mr44Bqe",
        "outputId": "a9e65baf-508a-4879-94e2-7386c80d26f3"
      },
      "execution_count": null,
      "outputs": [
        {
          "output_type": "stream",
          "name": "stdout",
          "text": [
            "+-------+---------+--------+---------------+--------+-----------+--------------+\n",
            "|Invoice|StockCode|Quantity|    InvoiceDate|Price/ft|Customer ID|       Country|\n",
            "+-------+---------+--------+---------------+--------+-----------+--------------+\n",
            "| 489434|    85048|      12|1.12.2009 07:45|    6.95|      13085|United Kingdom|\n",
            "| 489434|   79323P|      12|1.12.2009 07:45|    6.75|      13085|United Kingdom|\n",
            "| 489434|   79323W|      12|1.12.2009 07:45|    6.75|      13085|United Kingdom|\n",
            "| 489434|    22041|      48|1.12.2009 07:45|     2.1|      13085|United Kingdom|\n",
            "| 489434|    21232|      24|1.12.2009 07:45|    1.25|      13085|United Kingdom|\n",
            "+-------+---------+--------+---------------+--------+-----------+--------------+\n",
            "only showing top 5 rows\n",
            "\n",
            "root\n",
            " |-- Invoice: string (nullable = true)\n",
            " |-- StockCode: string (nullable = true)\n",
            " |-- Quantity: integer (nullable = true)\n",
            " |-- InvoiceDate: string (nullable = true)\n",
            " |-- Price/ft: double (nullable = true)\n",
            " |-- Customer ID: integer (nullable = true)\n",
            " |-- Country: string (nullable = true)\n",
            "\n"
          ]
        }
      ]
    },
    {
      "cell_type": "code",
      "source": [
        "from pyspark.sql.functions import col, sum\n",
        "# Contar valores nulos en cada columna\n",
        "null_counts = df.select([sum(col(c).isNull().cast(\"int\")).alias(c) for c in df.columns])\n",
        "null_counts.show()"
      ],
      "metadata": {
        "colab": {
          "base_uri": "https://localhost:8080/"
        },
        "id": "11-GV5Ex4p3L",
        "outputId": "7d7af716-f0bf-46b8-e7ef-fc083f95395a"
      },
      "execution_count": null,
      "outputs": [
        {
          "output_type": "stream",
          "name": "stdout",
          "text": [
            "+-------+---------+--------+-----------+--------+-----------+-------+\n",
            "|Invoice|StockCode|Quantity|InvoiceDate|Price/ft|Customer ID|Country|\n",
            "+-------+---------+--------+-----------+--------+-----------+-------+\n",
            "|      0|        0|       0|          0|       0|     236682|      0|\n",
            "+-------+---------+--------+-----------+--------+-----------+-------+\n",
            "\n"
          ]
        }
      ]
    },
    {
      "cell_type": "code",
      "source": [
        "# Obtener el número de filas y columnas\n",
        "num_filas = df.count()\n",
        "num_columnas = len(df.columns)\n",
        "\n",
        "# Imprimir las dimensiones del DataFrame\n",
        "print(f\"El DataFrame tiene {num_filas} filas y {num_columnas} columnas.\")"
      ],
      "metadata": {
        "colab": {
          "base_uri": "https://localhost:8080/"
        },
        "id": "CGAfC5RC4MIQ",
        "outputId": "363de433-d847-4573-d1cf-9b5696394454"
      },
      "execution_count": null,
      "outputs": [
        {
          "output_type": "stream",
          "name": "stdout",
          "text": [
            "El DataFrame tiene 1048575 filas y 7 columnas.\n"
          ]
        }
      ]
    },
    {
      "cell_type": "code",
      "source": [
        "df.describe().show()"
      ],
      "metadata": {
        "colab": {
          "base_uri": "https://localhost:8080/"
        },
        "id": "8wELMupM4S2u",
        "outputId": "7120a8b8-2d3e-4eb4-ea85-b085e1cce396"
      },
      "execution_count": null,
      "outputs": [
        {
          "output_type": "stream",
          "name": "stdout",
          "text": [
            "+-------+------------------+------------------+-----------------+---------------+------------------+-----------------+-----------+\n",
            "|summary|           Invoice|         StockCode|         Quantity|    InvoiceDate|          Price/ft|      Customer ID|    Country|\n",
            "+-------+------------------+------------------+-----------------+---------------+------------------+-----------------+-----------+\n",
            "|  count|           1048575|           1048575|          1048575|        1048575|           1048575|           811893|    1048575|\n",
            "|   mean|  536825.471444893|29058.852051336133|9.957525212788784|           NULL| 4.627346139281089|15324.71226503985|       NULL|\n",
            "| stddev|26251.184694935902| 18886.71005287471|133.5186919179497|           NULL|122.80241218014967|1697.033034188479|       NULL|\n",
            "|    min|            489434|             10002|           -74215|1.02.2010 08:13|         -53594.36|            12346|  Australia|\n",
            "|    max|           C580392|                 m|            74215|9.12.2010 20:01|           38970.0|            18287|West Indies|\n",
            "+-------+------------------+------------------+-----------------+---------------+------------------+-----------------+-----------+\n",
            "\n"
          ]
        }
      ]
    },
    {
      "cell_type": "markdown",
      "source": [
        "Observamos que valores de Quanityt y Price/ft tienen valores negativos. En este caso asumiermos que fue un input incorrecto. Consideramos el valor absoluto para ambas columnas. Otra opción es filtrar el dataset solo para valores positivos."
      ],
      "metadata": {
        "id": "RgJmC9vj78T8"
      }
    },
    {
      "cell_type": "code",
      "source": [
        "from pyspark.sql.functions import col, abs, max as spark_max, min as spark_min\n",
        "\n",
        "# Supongamos que df es tu DataFrame y contiene las columnas 'Quantity', 'Price/ft', y 'Country'\n",
        "\n",
        "# Aplicar la función de valor absoluto a 'Quantity' y 'Price/ft'\n",
        "df = df.withColumn(\"Quantity\", abs(col(\"Quantity\"))).withColumn(\"Price/ft\", abs(col(\"Price/ft\")))\n",
        "\n",
        "# Calcular la columna Quantity * Price/ft\n",
        "df = df.withColumn(\"Value\", col(\"Quantity\") * col(\"Price/ft\"))\n",
        "\n",
        "# Agrupar por 'Country' y calcular el valor máximo y mínimo de 'Value'\n",
        "aggregated_df = df.groupBy(\"Country\").agg(\n",
        "    spark_max(\"Value\").alias(\"MaxValue\"),\n",
        "    spark_min(\"Value\").alias(\"MinValue\")\n",
        ")\n",
        "\n",
        "# Mostrar los resultados\n",
        "aggregated_df.show()"
      ],
      "metadata": {
        "colab": {
          "base_uri": "https://localhost:8080/"
        },
        "id": "QX_yh8AV897r",
        "outputId": "0eb7005f-9886-46ac-fe13-b4fea8890664"
      },
      "execution_count": null,
      "outputs": [
        {
          "output_type": "stream",
          "name": "stdout",
          "text": [
            "+-----------+------------------+------------------+\n",
            "|    Country|          MaxValue|          MinValue|\n",
            "+-----------+------------------+------------------+\n",
            "|     Sweden|            1188.0|              0.85|\n",
            "|  Singapore|           3949.32|              2.34|\n",
            "|    Germany|             876.0|               0.0|\n",
            "|        RSA|           1435.29|               0.0|\n",
            "|     France|           8322.12|               0.0|\n",
            "|     Greece|             229.5|              0.85|\n",
            "|    Belgium|           1508.65|               0.0|\n",
            "|    Finland|             551.2|              0.78|\n",
            "|      Malta|           1868.56|              1.06|\n",
            "|    Nigeria|             79.05|              0.42|\n",
            "|Unspecified|           1189.94|              0.19|\n",
            "|      Italy|            660.86|              1.25|\n",
            "|       EIRE|           2736.16|               0.0|\n",
            "|  Lithuania|122.39999999999999|3.3600000000000003|\n",
            "|     Norway|           6958.17|               0.0|\n",
            "|      Spain|           1715.85|               0.0|\n",
            "|    Denmark|3630.7999999999997|              2.52|\n",
            "|West Indies|              46.8|              0.65|\n",
            "|   Thailand|             360.0|               8.5|\n",
            "|  Hong Kong|           2653.95|              3.75|\n",
            "+-----------+------------------+------------------+\n",
            "only showing top 20 rows\n",
            "\n"
          ]
        }
      ]
    },
    {
      "cell_type": "markdown",
      "source": [
        "Cuál fue la orden mínima y máxima por país?"
      ],
      "metadata": {
        "id": "bgRRpHSr7oOI"
      }
    },
    {
      "cell_type": "code",
      "source": [
        "from pyspark.sql.functions import col, abs, max as spark_max, min as spark_min\n",
        "\n",
        "# Aplicar la función de valor absoluto a 'Quantity' y 'Price/ft'\n",
        "df_abs = df.withColumn(\"Quantity\", abs(col(\"Quantity\"))).withColumn(\"Price/ft\", abs(col(\"Price/ft\")))\n",
        "\n",
        "# Calcular la columna Quantity * Price/ft\n",
        "df_with_calculation = df_abs.withColumn(\"Value\", col(\"Quantity\") * col(\"Price/ft\"))\n",
        "\n",
        "# Agrupar por 'Country' y calcular el valor máximo y mínimo de 'Value'\n",
        "aggregated_df = df_with_calculation.groupBy(\"Country\").agg(\n",
        "    spark_max(\"Value\").alias(\"MaxValue\"),\n",
        "    spark_min(\"Value\").alias(\"MinValue\")\n",
        ")\n",
        "\n",
        "# Mostrar los resultados\n",
        "aggregated_df.show()"
      ],
      "metadata": {
        "colab": {
          "base_uri": "https://localhost:8080/"
        },
        "id": "CmiOUWc67rg6",
        "outputId": "014246e6-6f0e-4d7a-b7b1-4b449c4c0a6e"
      },
      "execution_count": null,
      "outputs": [
        {
          "output_type": "stream",
          "name": "stdout",
          "text": [
            "+-----------+------------------+------------------+\n",
            "|    Country|          MaxValue|          MinValue|\n",
            "+-----------+------------------+------------------+\n",
            "|     Sweden|            1188.0|              0.85|\n",
            "|  Singapore|           3949.32|              2.34|\n",
            "|    Germany|             876.0|               0.0|\n",
            "|        RSA|           1435.29|               0.0|\n",
            "|     France|           8322.12|               0.0|\n",
            "|     Greece|             229.5|              0.85|\n",
            "|    Belgium|           1508.65|               0.0|\n",
            "|    Finland|             551.2|              0.78|\n",
            "|      Malta|           1868.56|              1.06|\n",
            "|    Nigeria|             79.05|              0.42|\n",
            "|Unspecified|           1189.94|              0.19|\n",
            "|      Italy|            660.86|              1.25|\n",
            "|       EIRE|           2736.16|               0.0|\n",
            "|  Lithuania|122.39999999999999|3.3600000000000003|\n",
            "|     Norway|           6958.17|               0.0|\n",
            "|      Spain|           1715.85|               0.0|\n",
            "|    Denmark|3630.7999999999997|              2.52|\n",
            "|West Indies|              46.8|              0.65|\n",
            "|   Thailand|             360.0|               8.5|\n",
            "|  Hong Kong|           2653.95|              3.75|\n",
            "+-----------+------------------+------------------+\n",
            "only showing top 20 rows\n",
            "\n"
          ]
        }
      ]
    },
    {
      "cell_type": "code",
      "source": [
        "df.columns"
      ],
      "metadata": {
        "colab": {
          "base_uri": "https://localhost:8080/"
        },
        "id": "Y73FBhmZ5EDr",
        "outputId": "0e8ba526-b91f-4323-ef41-6c163b5e41b0"
      },
      "execution_count": null,
      "outputs": [
        {
          "output_type": "execute_result",
          "data": {
            "text/plain": [
              "['Invoice',\n",
              " 'StockCode',\n",
              " 'Quantity',\n",
              " 'InvoiceDate',\n",
              " 'Price/ft',\n",
              " 'Customer ID',\n",
              " 'Country']"
            ]
          },
          "metadata": {},
          "execution_count": 8
        }
      ]
    },
    {
      "cell_type": "code",
      "source": [
        "from pyspark.sql.functions import col, count, when, abs\n",
        "\n",
        "# Aplicar la función de valor absoluto a 'Quantity' y 'Price/ft'\n",
        "df_abs = df.withColumn(\"Quantity\", abs(col(\"Quantity\"))).withColumn(\"Price/ft\", abs(col(\"Price/ft\")))\n",
        "\n",
        "# Contar el total de filas en el DataFrame\n",
        "total_rows = df_abs.count()\n",
        "\n",
        "# Calcular el porcentaje de valores nulos por columna\n",
        "null_percentages = df_abs.select([\n",
        "    (count(when(col(c).isNull(), c)) / total_rows * 100).alias(c)\n",
        "    for c in df_abs.columns\n",
        "])\n",
        "\n",
        "# Mostrar los resultados\n",
        "null_percentages.show()"
      ],
      "metadata": {
        "colab": {
          "base_uri": "https://localhost:8080/"
        },
        "id": "VKbBENCotVRg",
        "outputId": "55490651-436b-4f87-8250-615eb276c0e8"
      },
      "execution_count": null,
      "outputs": [
        {
          "output_type": "stream",
          "name": "stdout",
          "text": [
            "+-------+---------+--------+-----------+--------+------------------+-------+-----+\n",
            "|Invoice|StockCode|Quantity|InvoiceDate|Price/ft|       Customer ID|Country|Value|\n",
            "+-------+---------+--------+-----------+--------+------------------+-------+-----+\n",
            "|    0.0|      0.0|     0.0|        0.0|     0.0|22.571775981689434|    0.0|  0.0|\n",
            "+-------+---------+--------+-----------+--------+------------------+-------+-----+\n",
            "\n"
          ]
        }
      ]
    },
    {
      "cell_type": "code",
      "source": [
        "from pyspark.sql.functions import col, abs, sum\n",
        "\n",
        "# Aplicar la función de valor absoluto a 'Quantity' y 'Price/ft'\n",
        "df_abs = df.withColumn(\"Quantity\", abs(col(\"Quantity\"))).withColumn(\"Price/ft\", abs(col(\"Price/ft\")))\n",
        "\n",
        "# Calcular la columna Quantity * Price/ft\n",
        "df_with_calculation = df_abs.withColumn(\"Value\", col(\"Quantity\") * col(\"Price/ft\"))\n",
        "\n",
        "# Agrupar por 'Country' y sumar los valores calculados\n",
        "aggregated_df = df_with_calculation.groupBy(\"Country\").agg(\n",
        "    sum(\"Value\").alias(\"TotalSales\")\n",
        ")\n",
        "\n",
        "# Ordenar los resultados en orden descendente por la suma calculada\n",
        "sorted_df = aggregated_df.orderBy(col(\"TotalSales\").desc())\n",
        "\n",
        "# Mostrar los resultados\n",
        "sorted_df.show()"
      ],
      "metadata": {
        "colab": {
          "base_uri": "https://localhost:8080/"
        },
        "id": "4T4S4_EutZG7",
        "outputId": "4fbe55aa-6155-4607-be37-4f888d89ca70"
      },
      "execution_count": null,
      "outputs": [
        {
          "output_type": "stream",
          "name": "stdout",
          "text": [
            "+---------------+--------------------+\n",
            "|        Country|          TotalSales|\n",
            "+---------------+--------------------+\n",
            "| United Kingdom|1.8677388427002504E7|\n",
            "|           EIRE|   707042.0400000089|\n",
            "|    Netherlands|   548211.7100000011|\n",
            "|        Germany|  437164.76099999994|\n",
            "|         France|   380893.9199999999|\n",
            "|      Australia|   172807.1499999995|\n",
            "|          Spain|  126136.59000000003|\n",
            "|    Switzerland|  102293.82000000015|\n",
            "|         Sweden|   95522.01999999987|\n",
            "|         Norway|   78190.50999999998|\n",
            "|        Denmark|   73814.39000000001|\n",
            "|        Belgium|   66824.94000000006|\n",
            "|       Portugal|   61519.00000000006|\n",
            "|          Japan|  50383.270000000004|\n",
            "|Channel Islands|  48337.260000000024|\n",
            "|      Singapore|  37475.959999999985|\n",
            "|          Italy|   34221.04000000002|\n",
            "|      Hong Kong|  33749.340000000026|\n",
            "|        Finland|  30334.549999999977|\n",
            "|         Cyprus|  25797.520000000015|\n",
            "+---------------+--------------------+\n",
            "only showing top 20 rows\n",
            "\n"
          ]
        }
      ]
    },
    {
      "cell_type": "markdown",
      "source": [
        "Promedio de ticket por país"
      ],
      "metadata": {
        "id": "j0EPBOkc2vg1"
      }
    },
    {
      "cell_type": "code",
      "source": [
        "# Aplicar la función de valor absoluto a 'Quantity' y 'Price/ft'\n",
        "df_abs = df.withColumn(\"Quantity\", abs(col(\"Quantity\"))).withColumn(\"Price/ft\", abs(col(\"Price/ft\")))\n",
        "\n",
        "# Agrupar por 'Country' y calcular el promedio de 'Price/ft' y 'Quantity'\n",
        "aggregated_df = df_abs.groupBy(\"Country\").agg(\n",
        "    round(avg(\"Price/ft\"), 1).alias(\"AveragePricePerFt\"),\n",
        "    round(avg(\"Quantity\"), 1).alias(\"AverageQuantity\")\n",
        ")\n",
        "\n",
        "# Ordenar los resultados en orden descendente por el promedio de 'AveragePricePerFt'\n",
        "sorted_df = aggregated_df.orderBy(col(\"AveragePricePerFt\").desc())\n",
        "\n",
        "# Mostrar los resultados\n",
        "sorted_df.show()"
      ],
      "metadata": {
        "colab": {
          "base_uri": "https://localhost:8080/"
        },
        "id": "HsxHDyvS156D",
        "outputId": "61f780ab-f3a5-4570-cd3d-990a161b200f"
      },
      "execution_count": null,
      "outputs": [
        {
          "output_type": "stream",
          "name": "stdout",
          "text": [
            "+--------------------+-----------------+---------------+\n",
            "|             Country|AveragePricePerFt|AverageQuantity|\n",
            "+--------------------+-----------------+---------------+\n",
            "|           Singapore|             73.6|           20.2|\n",
            "|           Hong Kong|             57.6|           19.5|\n",
            "|              Norway|             29.6|           18.1|\n",
            "|               Malta|             22.0|            8.5|\n",
            "|                 RSA|             19.8|           11.7|\n",
            "|                EIRE|              7.1|           19.7|\n",
            "|            Portugal|              6.6|           11.0|\n",
            "|              Sweden|              6.4|           65.6|\n",
            "|             Lebanon|              6.2|            7.9|\n",
            "|               Spain|              5.5|           15.0|\n",
            "|               Italy|              5.5|           10.3|\n",
            "|              Cyprus|              5.4|            9.6|\n",
            "|     Channel Islands|              5.4|           13.5|\n",
            "|United Arab Emirates|              5.1|           15.8|\n",
            "|             Finland|              5.0|           13.8|\n",
            "|      United Kingdom|              4.8|           10.6|\n",
            "|             Belgium|              4.8|           11.4|\n",
            "|  European Community|              4.8|            8.2|\n",
            "|              France|              4.7|           25.8|\n",
            "|              Canada|              4.6|           16.0|\n",
            "+--------------------+-----------------+---------------+\n",
            "only showing top 20 rows\n",
            "\n"
          ]
        }
      ]
    },
    {
      "cell_type": "code",
      "source": [
        "from pyspark.sql.functions import col, abs, countDistinct\n",
        "\n",
        "# Aplicar la función de valor absoluto a las columnas numéricas (si fuera necesario)\n",
        "df_abs = df.withColumn(\"Quantity\", abs(col(\"Quantity\"))).withColumn(\"Price/ft\", abs(col(\"Price/ft\")))\n",
        "\n",
        "# Agrupar por 'Country' y contar los valores distintos de 'Customer ID'\n",
        "customer_counts = df_abs.groupBy(\"Country\").agg(\n",
        "    countDistinct(\"Customer ID\").alias(\"DifferentCustomerCount\")\n",
        ")\n",
        "\n",
        "# Ordenar los resultados en orden descendente por la cuenta de 'Customer ID'\n",
        "sorted_customer_counts = customer_counts.orderBy(col(\"DifferentCustomerCount\").desc())\n",
        "\n",
        "# Mostrar los resultados\n",
        "sorted_customer_counts.show()"
      ],
      "metadata": {
        "colab": {
          "base_uri": "https://localhost:8080/"
        },
        "id": "5RT8j9DG21hL",
        "outputId": "d1dffb28-aa67-4b4d-c803-61b268536da5"
      },
      "execution_count": null,
      "outputs": [
        {
          "output_type": "stream",
          "name": "stdout",
          "text": [
            "+---------------+----------------------+\n",
            "|        Country|DifferentCustomerCount|\n",
            "+---------------+----------------------+\n",
            "| United Kingdom|                  5397|\n",
            "|        Germany|                   106|\n",
            "|         France|                    94|\n",
            "|          Spain|                    40|\n",
            "|        Belgium|                    29|\n",
            "|       Portugal|                    24|\n",
            "|    Netherlands|                    23|\n",
            "|    Switzerland|                    22|\n",
            "|         Sweden|                    19|\n",
            "|          Italy|                    17|\n",
            "|        Finland|                    15|\n",
            "|      Australia|                    15|\n",
            "|Channel Islands|                    14|\n",
            "|         Norway|                    13|\n",
            "|        Austria|                    13|\n",
            "|        Denmark|                    11|\n",
            "|         Cyprus|                    11|\n",
            "|          Japan|                    10|\n",
            "|            USA|                     9|\n",
            "|    Unspecified|                     7|\n",
            "+---------------+----------------------+\n",
            "only showing top 20 rows\n",
            "\n"
          ]
        }
      ]
    },
    {
      "cell_type": "markdown",
      "source": [
        "Cuál es el producto que en promedio se ha vendido más caro?"
      ],
      "metadata": {
        "id": "DBJmsqu633wS"
      }
    },
    {
      "cell_type": "code",
      "source": [
        "from pyspark.sql.functions import col, abs, avg, round\n",
        "\n",
        "# Aplicar la función de valor absoluto a 'Price/ft'\n",
        "df_abs = df.withColumn(\"Price/ft\", abs(col(\"Price/ft\")))\n",
        "\n",
        "# Agrupar por 'StockCode' y calcular el promedio de 'Price/ft'\n",
        "aggregated_df = df_abs.groupBy(\"StockCode\").agg(\n",
        "    round(avg(\"Price/ft\"), 1).alias(\"AveragePricePerFt\")\n",
        ")\n",
        "\n",
        "# Ordenar los resultados en orden descendente por el promedio calculado (opcional)\n",
        "sorted_df = aggregated_df.orderBy(col(\"AveragePricePerFt\").desc())\n",
        "\n",
        "# Mostrar los resultados\n",
        "sorted_df.show()"
      ],
      "metadata": {
        "colab": {
          "base_uri": "https://localhost:8080/"
        },
        "id": "C_DtOWWk3iON",
        "outputId": "1f763213-53b5-4324-95be-177c79521dbf"
      },
      "execution_count": null,
      "outputs": [
        {
          "output_type": "stream",
          "name": "stdout",
          "text": [
            "+------------+-----------------+\n",
            "|   StockCode|AveragePricePerFt|\n",
            "+------------+-----------------+\n",
            "|           B|          28289.7|\n",
            "|   AMAZONFEE|           7301.4|\n",
            "|           M|            532.1|\n",
            "|        CRUK|            455.5|\n",
            "|BANK CHARGES|            362.4|\n",
            "|     ADJUST2|            243.7|\n",
            "|         DOT|            212.8|\n",
            "|       22656|            188.3|\n",
            "|       22655|            177.4|\n",
            "|      ADJUST|            163.6|\n",
            "|       22828|            154.2|\n",
            "|       22827|            149.9|\n",
            "|       22826|            115.4|\n",
            "|       22823|            105.8|\n",
            "|       21760|             98.3|\n",
            "|       21769|             76.0|\n",
            "|       85070|             74.2|\n",
            "|           D|             72.9|\n",
            "|       22929|             64.3|\n",
            "|           S|             61.0|\n",
            "+------------+-----------------+\n",
            "only showing top 20 rows\n",
            "\n"
          ]
        }
      ]
    }
  ]
}