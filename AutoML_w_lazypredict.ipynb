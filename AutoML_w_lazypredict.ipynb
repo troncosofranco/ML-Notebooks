{
  "nbformat": 4,
  "nbformat_minor": 0,
  "metadata": {
    "colab": {
      "provenance": [],
      "authorship_tag": "ABX9TyM0T8+GoyHK5OUlHISJfcfE",
      "include_colab_link": true
    },
    "kernelspec": {
      "name": "python3",
      "display_name": "Python 3"
    },
    "language_info": {
      "name": "python"
    }
  },
  "cells": [
    {
      "cell_type": "markdown",
      "metadata": {
        "id": "view-in-github",
        "colab_type": "text"
      },
      "source": [
        "<a href=\"https://colab.research.google.com/github/troncosofranco/ML-Notebooks/blob/main/AutoML_w_lazypredict.ipynb\" target=\"_parent\"><img src=\"https://colab.research.google.com/assets/colab-badge.svg\" alt=\"Open In Colab\"/></a>"
      ]
    },
    {
      "cell_type": "markdown",
      "source": [
        "[Lazy Predict library](https://github.com/shankarpandala/lazypredict) helps build a lot of basic models without much code and helps understand which models works better without any parameter tuning."
      ],
      "metadata": {
        "id": "gCODpDK5oaq-"
      }
    },
    {
      "cell_type": "code",
      "execution_count": 1,
      "metadata": {
        "colab": {
          "base_uri": "https://localhost:8080/"
        },
        "id": "Dj3xGjijoOIw",
        "outputId": "d73b5c76-449d-4641-ef98-8b75430b4f77"
      },
      "outputs": [
        {
          "output_type": "stream",
          "name": "stdout",
          "text": [
            "Looking in indexes: https://pypi.org/simple, https://us-python.pkg.dev/colab-wheels/public/simple/\n",
            "Collecting lazypredict\n",
            "  Downloading lazypredict-0.2.12-py2.py3-none-any.whl (12 kB)\n",
            "Requirement already satisfied: scikit-learn in /usr/local/lib/python3.8/dist-packages (from lazypredict) (1.0.2)\n",
            "Requirement already satisfied: click in /usr/local/lib/python3.8/dist-packages (from lazypredict) (7.1.2)\n",
            "Requirement already satisfied: lightgbm in /usr/local/lib/python3.8/dist-packages (from lazypredict) (2.2.3)\n",
            "Requirement already satisfied: tqdm in /usr/local/lib/python3.8/dist-packages (from lazypredict) (4.64.1)\n",
            "Requirement already satisfied: joblib in /usr/local/lib/python3.8/dist-packages (from lazypredict) (1.2.0)\n",
            "Requirement already satisfied: xgboost in /usr/local/lib/python3.8/dist-packages (from lazypredict) (0.90)\n",
            "Requirement already satisfied: pandas in /usr/local/lib/python3.8/dist-packages (from lazypredict) (1.3.5)\n",
            "Requirement already satisfied: numpy in /usr/local/lib/python3.8/dist-packages (from lightgbm->lazypredict) (1.21.6)\n",
            "Requirement already satisfied: scipy in /usr/local/lib/python3.8/dist-packages (from lightgbm->lazypredict) (1.7.3)\n",
            "Requirement already satisfied: python-dateutil>=2.7.3 in /usr/local/lib/python3.8/dist-packages (from pandas->lazypredict) (2.8.2)\n",
            "Requirement already satisfied: pytz>=2017.3 in /usr/local/lib/python3.8/dist-packages (from pandas->lazypredict) (2022.6)\n",
            "Requirement already satisfied: six>=1.5 in /usr/local/lib/python3.8/dist-packages (from python-dateutil>=2.7.3->pandas->lazypredict) (1.15.0)\n",
            "Requirement already satisfied: threadpoolctl>=2.0.0 in /usr/local/lib/python3.8/dist-packages (from scikit-learn->lazypredict) (3.1.0)\n",
            "Installing collected packages: lazypredict\n",
            "Successfully installed lazypredict-0.2.12\n"
          ]
        }
      ],
      "source": [
        "!pip install lazypredict"
      ]
    },
    {
      "cell_type": "code",
      "source": [
        "import lazypredict"
      ],
      "metadata": {
        "id": "8YraSXeKokc-"
      },
      "execution_count": 2,
      "outputs": []
    },
    {
      "cell_type": "markdown",
      "source": [
        "##Classification"
      ],
      "metadata": {
        "id": "6W2LinqZooBL"
      }
    },
    {
      "cell_type": "code",
      "source": [
        "from lazypredict.Supervised import LazyClassifier\n",
        "from sklearn.datasets import load_breast_cancer\n",
        "from sklearn.model_selection import train_test_split"
      ],
      "metadata": {
        "id": "tnS7lTzborBv"
      },
      "execution_count": 3,
      "outputs": []
    },
    {
      "cell_type": "code",
      "source": [
        "data = load_breast_cancer()\n",
        "X = data.data\n",
        "y= data.target"
      ],
      "metadata": {
        "id": "mBKGsUr6ozY4"
      },
      "execution_count": 4,
      "outputs": []
    },
    {
      "cell_type": "code",
      "source": [
        "# Split data\n",
        "X_train, X_test, y_train, y_test = train_test_split(X, y,test_size=.5,random_state =123)"
      ],
      "metadata": {
        "id": "BHWjiM8fo1hq"
      },
      "execution_count": 5,
      "outputs": []
    },
    {
      "cell_type": "code",
      "source": [
        "# Set clf\n",
        "clf = LazyClassifier(verbose=0,ignore_warnings=True, custom_metric=None)\n",
        "models,predictions = clf.fit(X_train, X_test, y_train, y_test)\n"
      ],
      "metadata": {
        "colab": {
          "base_uri": "https://localhost:8080/"
        },
        "id": "unKuwsNho5ao",
        "outputId": "085443c0-3455-4c52-e637-72fefd600601"
      },
      "execution_count": 6,
      "outputs": [
        {
          "output_type": "stream",
          "name": "stderr",
          "text": [
            "100%|██████████| 29/29 [00:01<00:00, 18.15it/s]\n"
          ]
        }
      ]
    },
    {
      "cell_type": "code",
      "source": [
        "# Print models and metrics\n",
        "print(models)\n",
        "\n"
      ],
      "metadata": {
        "colab": {
          "base_uri": "https://localhost:8080/"
        },
        "id": "ZPVblgx3o9pJ",
        "outputId": "71d42184-e357-4df9-8732-1a70d865e4bd"
      },
      "execution_count": 7,
      "outputs": [
        {
          "output_type": "stream",
          "name": "stdout",
          "text": [
            "                               Accuracy  Balanced Accuracy  ROC AUC  F1 Score  \\\n",
            "Model                                                                           \n",
            "LinearSVC                          0.99               0.99     0.99      0.99   \n",
            "Perceptron                         0.99               0.98     0.98      0.99   \n",
            "LogisticRegression                 0.99               0.98     0.98      0.99   \n",
            "XGBClassifier                      0.98               0.98     0.98      0.98   \n",
            "SVC                                0.98               0.98     0.98      0.98   \n",
            "LabelPropagation                   0.98               0.97     0.97      0.98   \n",
            "LabelSpreading                     0.98               0.97     0.97      0.98   \n",
            "BaggingClassifier                  0.97               0.97     0.97      0.97   \n",
            "PassiveAggressiveClassifier        0.98               0.97     0.97      0.98   \n",
            "SGDClassifier                      0.98               0.97     0.97      0.98   \n",
            "RandomForestClassifier             0.97               0.97     0.97      0.97   \n",
            "CalibratedClassifierCV             0.98               0.97     0.97      0.98   \n",
            "QuadraticDiscriminantAnalysis      0.96               0.97     0.97      0.97   \n",
            "ExtraTreesClassifier               0.97               0.96     0.96      0.97   \n",
            "RidgeClassifierCV                  0.97               0.96     0.96      0.97   \n",
            "LGBMClassifier                     0.96               0.96     0.96      0.96   \n",
            "RidgeClassifier                    0.97               0.96     0.96      0.97   \n",
            "AdaBoostClassifier                 0.96               0.96     0.96      0.96   \n",
            "KNeighborsClassifier               0.96               0.96     0.96      0.96   \n",
            "BernoulliNB                        0.95               0.95     0.95      0.95   \n",
            "LinearDiscriminantAnalysis         0.96               0.95     0.95      0.96   \n",
            "GaussianNB                         0.95               0.95     0.95      0.95   \n",
            "NuSVC                              0.95               0.94     0.94      0.95   \n",
            "ExtraTreeClassifier                0.94               0.93     0.93      0.94   \n",
            "NearestCentroid                    0.95               0.93     0.93      0.95   \n",
            "DecisionTreeClassifier             0.93               0.93     0.93      0.93   \n",
            "DummyClassifier                    0.64               0.50     0.50      0.50   \n",
            "\n",
            "                               Time Taken  \n",
            "Model                                      \n",
            "LinearSVC                            0.06  \n",
            "Perceptron                           0.02  \n",
            "LogisticRegression                   0.06  \n",
            "XGBClassifier                        0.15  \n",
            "SVC                                  0.02  \n",
            "LabelPropagation                     0.05  \n",
            "LabelSpreading                       0.05  \n",
            "BaggingClassifier                    0.05  \n",
            "PassiveAggressiveClassifier          0.03  \n",
            "SGDClassifier                        0.02  \n",
            "RandomForestClassifier               0.18  \n",
            "CalibratedClassifierCV               0.04  \n",
            "QuadraticDiscriminantAnalysis        0.03  \n",
            "ExtraTreesClassifier                 0.26  \n",
            "RidgeClassifierCV                    0.02  \n",
            "LGBMClassifier                       0.11  \n",
            "RidgeClassifier                      0.02  \n",
            "AdaBoostClassifier                   0.15  \n",
            "KNeighborsClassifier                 0.03  \n",
            "BernoulliNB                          0.01  \n",
            "LinearDiscriminantAnalysis           0.06  \n",
            "GaussianNB                           0.02  \n",
            "NuSVC                                0.04  \n",
            "ExtraTreeClassifier                  0.02  \n",
            "NearestCentroid                      0.02  \n",
            "DecisionTreeClassifier               0.03  \n",
            "DummyClassifier                      0.02  \n"
          ]
        }
      ]
    },
    {
      "cell_type": "markdown",
      "source": [
        "#Regression"
      ],
      "metadata": {
        "id": "P0ndvJd68tvx"
      }
    },
    {
      "cell_type": "code",
      "source": [
        "from lazypredict.Supervised import LazyRegressor\n",
        "from sklearn import datasets\n",
        "from sklearn.utils import shuffle\n",
        "import numpy as np"
      ],
      "metadata": {
        "id": "QEfiMe0R8yBO"
      },
      "execution_count": 8,
      "outputs": []
    },
    {
      "cell_type": "code",
      "source": [
        "# Load Boston dataset\n",
        "boston = datasets.load_boston()\n",
        "X, y = shuffle(boston.data, boston.target, random_state=13)\n",
        "X = X.astype(np.float32)\n",
        "offset = int(X.shape[0] * 0.8)"
      ],
      "metadata": {
        "id": "TUIDpZu39NUX"
      },
      "execution_count": 12,
      "outputs": []
    },
    {
      "cell_type": "code",
      "source": [
        "# Split data\n",
        "X_train, y_train = X[:offset], y[:offset]\n",
        "X_test, y_test = X[offset:], y[offset:]\n"
      ],
      "metadata": {
        "id": "MtqCB4UG9UL4"
      },
      "execution_count": 13,
      "outputs": []
    },
    {
      "cell_type": "code",
      "source": [
        "# Build model\n",
        "reg = LazyRegressor(verbose=0, ignore_warnings=False, custom_metric=None)\n",
        "models, predictions = reg.fit(X_train, X_test, y_train, y_test)"
      ],
      "metadata": {
        "colab": {
          "base_uri": "https://localhost:8080/"
        },
        "id": "LcYE5WHn9c4Z",
        "outputId": "9de810f1-6c7b-4e56-c91b-3c4ea3481b22"
      },
      "execution_count": 14,
      "outputs": [
        {
          "output_type": "stream",
          "name": "stderr",
          "text": [
            " 98%|█████████▊| 41/42 [00:07<00:00,  4.02it/s]"
          ]
        },
        {
          "output_type": "stream",
          "name": "stdout",
          "text": [
            "[02:28:34] WARNING: /workspace/src/objective/regression_obj.cu:152: reg:linear is now deprecated in favor of reg:squarederror.\n"
          ]
        },
        {
          "output_type": "stream",
          "name": "stderr",
          "text": [
            "\r100%|██████████| 42/42 [00:07<00:00,  5.83it/s]\n"
          ]
        }
      ]
    },
    {
      "cell_type": "code",
      "source": [
        "# Models and metrics\n",
        "print(models)"
      ],
      "metadata": {
        "colab": {
          "base_uri": "https://localhost:8080/"
        },
        "id": "nTCb_GkO9hYL",
        "outputId": "a54b9d23-a32d-40c7-acd5-89cf45f7565a"
      },
      "execution_count": 15,
      "outputs": [
        {
          "output_type": "stream",
          "name": "stdout",
          "text": [
            "                               Adjusted R-Squared  R-Squared  RMSE  Time Taken\n",
            "Model                                                                         \n",
            "GradientBoostingRegressor                    0.90       0.92  2.76        0.16\n",
            "LGBMRegressor                                0.88       0.89  3.11        0.11\n",
            "HistGradientBoostingRegressor                0.87       0.89  3.15        0.22\n",
            "XGBRegressor                                 0.86       0.88  3.26        0.17\n",
            "ExtraTreesRegressor                          0.86       0.88  3.33        0.21\n",
            "RandomForestRegressor                        0.85       0.87  3.43        0.73\n",
            "AdaBoostRegressor                            0.84       0.86  3.55        0.12\n",
            "BaggingRegressor                             0.81       0.83  3.87        0.05\n",
            "KNeighborsRegressor                          0.71       0.75  4.73        0.01\n",
            "PoissonRegressor                             0.69       0.73  4.92        0.02\n",
            "DecisionTreeRegressor                        0.65       0.69  5.26        0.01\n",
            "TransformedTargetRegressor                   0.60       0.66  5.57        0.02\n",
            "LinearRegression                             0.60       0.66  5.57        0.01\n",
            "LassoLarsIC                                  0.60       0.66  5.57        0.02\n",
            "Ridge                                        0.60       0.65  5.58        0.02\n",
            "LassoCV                                      0.60       0.65  5.60        0.06\n",
            "LassoLarsCV                                  0.60       0.65  5.60        0.03\n",
            "BayesianRidge                                0.60       0.65  5.62        0.01\n",
            "ElasticNetCV                                 0.59       0.65  5.64        0.06\n",
            "RidgeCV                                      0.59       0.65  5.64        0.02\n",
            "SGDRegressor                                 0.59       0.64  5.68        0.02\n",
            "ExtraTreeRegressor                           0.59       0.64  5.69        0.02\n",
            "MLPRegressor                                 0.58       0.63  5.76        0.64\n",
            "Lars                                         0.57       0.62  5.82        0.02\n",
            "SVR                                          0.56       0.62  5.86        0.04\n",
            "LarsCV                                       0.55       0.61  5.91        0.09\n",
            "NuSVR                                        0.54       0.60  5.99        0.03\n",
            "HuberRegressor                               0.52       0.58  6.14        0.02\n",
            "OrthogonalMatchingPursuitCV                  0.52       0.58  6.15        0.02\n",
            "Lasso                                        0.52       0.58  6.15        0.01\n",
            "LinearSVR                                    0.49       0.56  6.31        0.01\n",
            "ElasticNet                                   0.48       0.55  6.40        0.01\n",
            "GammaRegressor                               0.47       0.54  6.46        0.01\n",
            "TweedieRegressor                             0.46       0.53  6.52        0.02\n",
            "OrthogonalMatchingPursuit                    0.39       0.47  6.94        0.01\n",
            "PassiveAggressiveRegressor                   0.34       0.43  7.18        0.01\n",
            "GaussianProcessRegressor                     0.28       0.38  7.50        0.04\n",
            "RANSACRegressor                              0.13       0.24  8.28        0.22\n",
            "DummyRegressor                              -0.15      -0.00  9.51        0.01\n",
            "LassoLars                                   -0.15      -0.00  9.51        0.01\n",
            "QuantileRegressor                           -0.19      -0.03  9.65        3.79\n",
            "KernelRidge                                 -6.42      -5.46 24.13        0.02\n"
          ]
        }
      ]
    }
  ]
}