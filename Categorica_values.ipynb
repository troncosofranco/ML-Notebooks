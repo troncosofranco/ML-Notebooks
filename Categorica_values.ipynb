{
 "cells": [
  {
   "cell_type": "code",
   "execution_count": 8,
   "id": "b28dbee8-8112-4920-a7c2-d50517ca00a3",
   "metadata": {},
   "outputs": [
    {
     "data": {
      "text/plain": [
       "['Suburb', 'Type', 'Method', 'SellerG', 'Date', 'Regionname']"
      ]
     },
     "execution_count": 8,
     "metadata": {},
     "output_type": "execute_result"
    }
   ],
   "source": [
    "import pandas as pd\n",
    "from sklearn.model_selection import train_test_split\n",
    "\n",
    "#Read the data \n",
    "data = pd.read_csv('melb_data.csv')\n",
    "\n",
    "#Separate data for predictors\n",
    "y = data['Price']\n",
    "x = data.drop(['Price'], axis = 1)\n",
    "\n",
    "#Divide data into training and validation subset\n",
    "x_train_full, x_valid_full, y_train, y_valid = train_test_split(x,y, train_size = 0.8, test_size = 0.2, random_state = 0)\n",
    "\n",
    "#Drop columns with missing values (simplest approach)\n",
    "cols_with_missing = [col for col in x_train_full.columns if x_train_full[col].isnull().any()]\n",
    "x_train_full.drop(cols_with_missing, axis = 1, inplace=True)\n",
    "x_valid_full.drop(cols_with_missing, axis = 1, inplace=True)\n",
    "\n",
    "#Select columns with relatively low cardinality (conviniet but arbritary -> \n",
    "\n",
    "low_cardinality_cols = [cname for cname in x_train_full.columns if x_train_full[cname].nunique() < 10 and x_train_full[cname].dtype == 'object']\n",
    "\n",
    "#Columns with < 10 different values\n",
    "low_cardinality_cols\n"
   ]
  },
  {
   "cell_type": "code",
   "execution_count": 9,
   "id": "abaf1dba-c48a-4b30-a67c-67ee70f3e3cc",
   "metadata": {},
   "outputs": [
    {
     "data": {
      "text/plain": [
       "['Rooms',\n",
       " 'Distance',\n",
       " 'Postcode',\n",
       " 'Bedroom2',\n",
       " 'Bathroom',\n",
       " 'Landsize',\n",
       " 'Lattitude',\n",
       " 'Longtitude',\n",
       " 'Propertycount']"
      ]
     },
     "execution_count": 9,
     "metadata": {},
     "output_type": "execute_result"
    }
   ],
   "source": [
    "#Select numerical columns\n",
    "\n",
    "numerical_cols = [cname for cname in x_train_full.columns if x_train_full[cname].dtype in ['int64', 'float64']]\n",
    "numerical_cols"
   ]
  },
  {
   "cell_type": "code",
   "execution_count": 10,
   "id": "91da6ee7-3a32-431c-bba1-a67f6232ca36",
   "metadata": {},
   "outputs": [],
   "source": [
    "#Keep selected columns only\n",
    "my_cols = low_cardinality_cols + numerical_cols\n",
    "x_train = x_train_full[my_cols].copy()\n",
    "x_valid = x_valid_full[my_cols].copy()"
   ]
  },
  {
   "cell_type": "code",
   "execution_count": 11,
   "id": "6b658e09-8d03-4ec8-b553-3e8f20a15efd",
   "metadata": {},
   "outputs": [
    {
     "data": {
      "text/html": [
       "<div>\n",
       "<style scoped>\n",
       "    .dataframe tbody tr th:only-of-type {\n",
       "        vertical-align: middle;\n",
       "    }\n",
       "\n",
       "    .dataframe tbody tr th {\n",
       "        vertical-align: top;\n",
       "    }\n",
       "\n",
       "    .dataframe thead th {\n",
       "        text-align: right;\n",
       "    }\n",
       "</style>\n",
       "<table border=\"1\" class=\"dataframe\">\n",
       "  <thead>\n",
       "    <tr style=\"text-align: right;\">\n",
       "      <th></th>\n",
       "      <th>Suburb</th>\n",
       "      <th>Type</th>\n",
       "      <th>Method</th>\n",
       "      <th>SellerG</th>\n",
       "      <th>Date</th>\n",
       "      <th>Regionname</th>\n",
       "      <th>Rooms</th>\n",
       "      <th>Distance</th>\n",
       "      <th>Postcode</th>\n",
       "      <th>Bedroom2</th>\n",
       "      <th>Bathroom</th>\n",
       "      <th>Landsize</th>\n",
       "      <th>Lattitude</th>\n",
       "      <th>Longtitude</th>\n",
       "      <th>Propertycount</th>\n",
       "    </tr>\n",
       "  </thead>\n",
       "  <tbody>\n",
       "    <tr>\n",
       "      <th>12167</th>\n",
       "      <td>St Kilda</td>\n",
       "      <td>u</td>\n",
       "      <td>S</td>\n",
       "      <td>hockingstuart</td>\n",
       "      <td>29/07/2017</td>\n",
       "      <td>Southern Metropolitan</td>\n",
       "      <td>1</td>\n",
       "      <td>5.0</td>\n",
       "      <td>3182.0</td>\n",
       "      <td>1.0</td>\n",
       "      <td>1.0</td>\n",
       "      <td>0.0</td>\n",
       "      <td>-37.85984</td>\n",
       "      <td>144.9867</td>\n",
       "      <td>13240.0</td>\n",
       "    </tr>\n",
       "    <tr>\n",
       "      <th>6524</th>\n",
       "      <td>Williamstown</td>\n",
       "      <td>h</td>\n",
       "      <td>SA</td>\n",
       "      <td>Hunter</td>\n",
       "      <td>17/09/2016</td>\n",
       "      <td>Western Metropolitan</td>\n",
       "      <td>2</td>\n",
       "      <td>8.0</td>\n",
       "      <td>3016.0</td>\n",
       "      <td>2.0</td>\n",
       "      <td>2.0</td>\n",
       "      <td>193.0</td>\n",
       "      <td>-37.85800</td>\n",
       "      <td>144.9005</td>\n",
       "      <td>6380.0</td>\n",
       "    </tr>\n",
       "    <tr>\n",
       "      <th>8413</th>\n",
       "      <td>Sunshine</td>\n",
       "      <td>h</td>\n",
       "      <td>S</td>\n",
       "      <td>Barry</td>\n",
       "      <td>8/04/2017</td>\n",
       "      <td>Western Metropolitan</td>\n",
       "      <td>3</td>\n",
       "      <td>12.6</td>\n",
       "      <td>3020.0</td>\n",
       "      <td>3.0</td>\n",
       "      <td>1.0</td>\n",
       "      <td>555.0</td>\n",
       "      <td>-37.79880</td>\n",
       "      <td>144.8220</td>\n",
       "      <td>3755.0</td>\n",
       "    </tr>\n",
       "    <tr>\n",
       "      <th>2919</th>\n",
       "      <td>Glenroy</td>\n",
       "      <td>u</td>\n",
       "      <td>SP</td>\n",
       "      <td>Brad</td>\n",
       "      <td>18/06/2016</td>\n",
       "      <td>Northern Metropolitan</td>\n",
       "      <td>3</td>\n",
       "      <td>13.0</td>\n",
       "      <td>3046.0</td>\n",
       "      <td>3.0</td>\n",
       "      <td>1.0</td>\n",
       "      <td>265.0</td>\n",
       "      <td>-37.70830</td>\n",
       "      <td>144.9158</td>\n",
       "      <td>8870.0</td>\n",
       "    </tr>\n",
       "    <tr>\n",
       "      <th>6043</th>\n",
       "      <td>Sunshine North</td>\n",
       "      <td>h</td>\n",
       "      <td>S</td>\n",
       "      <td>First</td>\n",
       "      <td>22/05/2016</td>\n",
       "      <td>Western Metropolitan</td>\n",
       "      <td>3</td>\n",
       "      <td>13.3</td>\n",
       "      <td>3020.0</td>\n",
       "      <td>3.0</td>\n",
       "      <td>1.0</td>\n",
       "      <td>673.0</td>\n",
       "      <td>-37.76230</td>\n",
       "      <td>144.8272</td>\n",
       "      <td>4217.0</td>\n",
       "    </tr>\n",
       "  </tbody>\n",
       "</table>\n",
       "</div>"
      ],
      "text/plain": [
       "               Suburb Type Method        SellerG        Date  \\\n",
       "12167        St Kilda    u      S  hockingstuart  29/07/2017   \n",
       "6524     Williamstown    h     SA         Hunter  17/09/2016   \n",
       "8413         Sunshine    h      S          Barry   8/04/2017   \n",
       "2919          Glenroy    u     SP           Brad  18/06/2016   \n",
       "6043   Sunshine North    h      S          First  22/05/2016   \n",
       "\n",
       "                  Regionname  Rooms  Distance  Postcode  Bedroom2  Bathroom  \\\n",
       "12167  Southern Metropolitan      1       5.0    3182.0       1.0       1.0   \n",
       "6524    Western Metropolitan      2       8.0    3016.0       2.0       2.0   \n",
       "8413    Western Metropolitan      3      12.6    3020.0       3.0       1.0   \n",
       "2919   Northern Metropolitan      3      13.0    3046.0       3.0       1.0   \n",
       "6043    Western Metropolitan      3      13.3    3020.0       3.0       1.0   \n",
       "\n",
       "       Landsize  Lattitude  Longtitude  Propertycount  \n",
       "12167       0.0  -37.85984    144.9867        13240.0  \n",
       "6524      193.0  -37.85800    144.9005         6380.0  \n",
       "8413      555.0  -37.79880    144.8220         3755.0  \n",
       "2919      265.0  -37.70830    144.9158         8870.0  \n",
       "6043      673.0  -37.76230    144.8272         4217.0  "
      ]
     },
     "execution_count": 11,
     "metadata": {},
     "output_type": "execute_result"
    }
   ],
   "source": [
    "x_train.head()"
   ]
  },
  {
   "cell_type": "code",
   "execution_count": 16,
   "id": "f9aa3c05-ef72-4c91-a9bf-e8465a71da95",
   "metadata": {},
   "outputs": [
    {
     "data": {
      "text/plain": [
       "Suburb            True\n",
       "Type              True\n",
       "Method            True\n",
       "SellerG           True\n",
       "Date              True\n",
       "Regionname        True\n",
       "Rooms            False\n",
       "Distance         False\n",
       "Postcode         False\n",
       "Bedroom2         False\n",
       "Bathroom         False\n",
       "Landsize         False\n",
       "Lattitude        False\n",
       "Longtitude       False\n",
       "Propertycount    False\n",
       "dtype: bool"
      ]
     },
     "execution_count": 16,
     "metadata": {},
     "output_type": "execute_result"
    }
   ],
   "source": [
    "#Get list of categorical variables\n",
    "s = (x_train.dtypes == 'object')\n",
    "\n",
    "#List with categorical variables ('object' => text)\n",
    "object_cols = list(s[s].index)\n"
   ]
  },
  {
   "cell_type": "code",
   "execution_count": null,
   "id": "c77eabb0-c896-46a8-8631-3e1df60b42de",
   "metadata": {},
   "outputs": [],
   "source": []
  }
 ],
 "metadata": {
  "kernelspec": {
   "display_name": "Python 3",
   "language": "python",
   "name": "python3"
  },
  "language_info": {
   "codemirror_mode": {
    "name": "ipython",
    "version": 3
   },
   "file_extension": ".py",
   "mimetype": "text/x-python",
   "name": "python",
   "nbconvert_exporter": "python",
   "pygments_lexer": "ipython3",
   "version": "3.8.8"
  }
 },
 "nbformat": 4,
 "nbformat_minor": 5
}
