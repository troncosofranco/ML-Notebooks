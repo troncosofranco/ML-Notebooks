{
 "cells": [
  {
   "cell_type": "code",
   "execution_count": 2,
   "id": "22bfab14-1416-4100-af14-42b389be8135",
   "metadata": {},
   "outputs": [],
   "source": [
    "import pandas as pd\n",
    "import numpy as np\n",
    "import matplotlib.pyplot as plt\n",
    "from sklearn.metrics import mean_absolute_error, r2_score"
   ]
  },
  {
   "cell_type": "code",
   "execution_count": 16,
   "id": "1b93b390-d3ae-42c7-9e72-4edd465df396",
   "metadata": {},
   "outputs": [
    {
     "name": "stdout",
     "output_type": "stream",
     "text": [
      "The prediction of user value is:  61.391841491841376\n",
      "MAE:  3.1176689976690137\n",
      "r2:  0.9715107549847241\n"
     ]
    },
    {
     "data": {
      "image/png": "[encoded data removed]",
      "text/plain": [
       "<Figure size 432x288 with 1 Axes>"
      ]
     },
     "metadata": {
      "needs_background": "light"
     },
     "output_type": "display_data"
    }
   ],
   "source": [
    "def predict_sales(time):\n",
    "    raw_data = {\n",
    "        'years': [1, 2, 3, 4, 5, 6, 7, 8, 9, 10],\n",
    "        'sales': [10, 30, 50, 60, 50, 54, 67, 68, 80, 100]\n",
    "        }\n",
    "    \n",
    "    #IMPORTANTE: REGRESIÓN POLINÓMICA -> PASAR DATA A LISTA\n",
    "    df = pd.DataFrame(raw_data)\n",
    "    X = np.array(df['years'].tolist())\n",
    "    y = np.array(df['sales'].tolist())\n",
    "    \n",
    "    \n",
    "    #Training model\n",
    "    model = np.poly1d(np.polyfit(X, y, deg=3)) #Deg: grado del polinomio\n",
    "    \n",
    "    #Prediction\n",
    "    y_prediction = model(time)\n",
    "    y_prediction_test = model(X)\n",
    "    print('The prediction of user value is: ', y_prediction)\n",
    "    \n",
    "    #Model accuracy\n",
    "    MAE = mean_absolute_error(y, y_prediction_test)\n",
    "    print('MAE: ', MAE)\n",
    "    r2 = r2_score (y, y_prediction_test)\n",
    "    print('r2: ', r2)\n",
    "    \n",
    "    #Plot de data\n",
    "    plt.scatter(X,y, s=20)\n",
    "    plt.xlabel('Time [years]')\n",
    "    plt.ylabel('Sales [usd]')\n",
    "    \n",
    "    curvy_line = np.linspace(1, 10, 100) # Creo un arreglo con los valores para graficar la función\n",
    "    plt.plot(curvy_line, model(curvy_line))\n",
    "    \n",
    "    plt.show()\n",
    "    \n",
    "    \n",
    "    \n",
    "predict_sales(7)"
   ]
  },
  {
   "cell_type": "code",
   "execution_count": null,
   "id": "4397b4fb-d263-4265-8d7a-e150c9fb70ab",
   "metadata": {},
   "outputs": [],
   "source": []
  }
 ],
 "metadata": {
  "kernelspec": {
   "display_name": "Python 3",
   "language": "python",
   "name": "python3"
  },
  "language_info": {
   "codemirror_mode": {
    "name": "ipython",
    "version": 3
   },
   "file_extension": ".py",
   "mimetype": "text/x-python",
   "name": "python",
   "nbconvert_exporter": "python",
   "pygments_lexer": "ipython3",
   "version": "3.8.8"
  }
 },
 "nbformat": 4,
 "nbformat_minor": 5
}
