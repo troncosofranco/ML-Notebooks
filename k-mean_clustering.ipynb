{
 "cells": [
  {
   "cell_type": "code",
   "execution_count": 1,
   "id": "357c8001-9d7a-4165-bd7a-261585794c07",
   "metadata": {},
   "outputs": [],
   "source": [
    "import pandas as pd\n",
    "from matplotlib import pyplot as plt\n",
    "from sklearn.cluster import KMeans"
   ]
  },
  {
   "cell_type": "code",
   "execution_count": 18,
   "id": "e91d67f1-e228-423e-9aab-cef6ad05634c",
   "metadata": {},
   "outputs": [
    {
     "name": "stdout",
     "output_type": "stream",
     "text": [
      "100\n",
      "Labels:  [1 1 1 1 2 2 2 2 0 0 0 0]\n"
     ]
    },
    {
     "data": {
      "image/png": "[encoded data removed]",
      "text/plain": [
       "<Figure size 432x288 with 1 Axes>"
      ]
     },
     "metadata": {
      "needs_background": "light"
     },
     "output_type": "display_data"
    }
   ],
   "source": [
    "# Fruit Data (Apple, Banana, Melon)\n",
    "raw_data = {\n",
    "    'weight': [1, 5, 2, 3, 10, 11, 15, 9, 100, 120, 115, 116],\n",
    "    'sugar': [100, 200, 262, 245, 500, 520, 595, 540, 1000, 1200, 1120, 1400]\n",
    "}\n",
    "\n",
    "df = pd.DataFrame(raw_data)\n",
    "print(df.iloc[0,1])\n",
    "#Aprendizaje NO supervisado -> No especifico cuales son las propiedades (categorias) de los datos.\n",
    "#Con el programa deberiamos diferencias que se trata de tres grupos.\n",
    "\n",
    "#Amount of clusters (K)\n",
    "K = 3\n",
    "\n",
    "#Initialise the model\n",
    "model = KMeans(n_clusters=K)\n",
    "model.fit(df)\n",
    "\n",
    "#Array the cluster number (label encoder)\n",
    "labels = model.labels_\n",
    "print('Labels: ', labels)\n",
    "\n",
    "# Array size k with coordinates for centroids\n",
    "centroids = model.cluster_centers_\n",
    "\n",
    "# Colours to be used in the plot\n",
    "colours = ['red', 'green', 'blue', 'yellow']\n",
    "\n",
    "# Plots all the points\n",
    "y=0\n",
    "for x in labels:\n",
    "    # Las columnas en el df comienzan en 0 (1ra columna)\n",
    "    plt.scatter(df.iloc[y,0],df.iloc[y,1], color=colours[x])\n",
    "    y +=1\n",
    "\n",
    "#Plots the centroids\n",
    "#Tantos centroides como clusters\n",
    "for x in range(K):\n",
    "    crosses = plt.plot(centroids[x,0], centroids[x,1], 'kx')\n",
    "    plt.setp(crosses,ms=10.0,mew=3.0)\n",
    "\n",
    "#show the plot\n",
    "plt.show()"
   ]
  },
  {
   "cell_type": "code",
   "execution_count": null,
   "id": "ff9660ca-bd34-4ac0-9f08-cb7838abe61c",
   "metadata": {},
   "outputs": [],
   "source": []
  },
  {
   "cell_type": "code",
   "execution_count": null,
   "id": "3bd88a18-3907-43c5-adfd-d63e58c242e5",
   "metadata": {},
   "outputs": [],
   "source": []
  }
 ],
 "metadata": {
  "kernelspec": {
   "display_name": "Python 3",
   "language": "python",
   "name": "python3"
  },
  "language_info": {
   "codemirror_mode": {
    "name": "ipython",
    "version": 3
   },
   "file_extension": ".py",
   "mimetype": "text/x-python",
   "name": "python",
   "nbconvert_exporter": "python",
   "pygments_lexer": "ipython3",
   "version": "3.8.8"
  }
 },
 "nbformat": 4,
 "nbformat_minor": 5
}
