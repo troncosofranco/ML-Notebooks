{
  "nbformat": 4,
  "nbformat_minor": 0,
  "metadata": {
    "colab": {
      "provenance": [],
      "authorship_tag": "ABX9TyNFVnFX/zrs0R8sAwvBh8Pj",
      "include_colab_link": true
    },
    "kernelspec": {
      "name": "python3",
      "display_name": "Python 3"
    },
    "language_info": {
      "name": "python"
    }
  },
  "cells": [
    {
      "cell_type": "markdown",
      "metadata": {
        "id": "view-in-github",
        "colab_type": "text"
      },
      "source": [
        "<a href=\"https://colab.research.google.com/github/troncosofranco/ML-Notebooks/blob/main/A_B_testing_(Digital_Marketing).ipynb\" target=\"_parent\"><img src=\"https://colab.research.google.com/assets/colab-badge.svg\" alt=\"Open In Colab\"/></a>"
      ]
    },
    {
      "cell_type": "markdown",
      "source": [
        "# Problem statement\n",
        "FaceZonGoogAppFlix, the leading e-commerce titan, has enlisted our services as a data science consultancy firm. Their objective is to explore the effectiveness of a potentially new website design, which they hope will boost their current conversion rates of 12% by at least 35%."
      ],
      "metadata": {
        "id": "wU9LSo2k8SKj"
      }
    },
    {
      "cell_type": "markdown",
      "source": [
        "#Solution approach\n",
        "This notebook performes multiple testing, including A/B, to analyze the statiscial relationship between the variables."
      ],
      "metadata": {
        "id": "5I2Ljzv48c6j"
      }
    },
    {
      "cell_type": "markdown",
      "source": [
        "#Data attributes\n",
        "\n",
        "The data was obtained from [Hakan Özler](https://github.com/ozlerhakan/ab-test/blob/master/ab_data.csv). The data set contains the following attribures:\n",
        "1. User ID\n",
        "2. Timestamp\n",
        "3. Group: control/treatment\n",
        "4. Landing Page: Old Page/New Page\n",
        "5. Converted: 0 (No)/ 1 (yes)\n"
      ],
      "metadata": {
        "id": "fe4TIPem-EP6"
      }
    },
    {
      "cell_type": "markdown",
      "source": [
        "#1. Import Modules"
      ],
      "metadata": {
        "id": "jANEwVTDEFIQ"
      }
    },
    {
      "cell_type": "code",
      "source": [
        "import numpy as np \n",
        "import pandas as pd\n",
        "import matplotlib.pyplot as plt  \n",
        "import seaborn as sns\n",
        "import random\n",
        "random.seed(42) #get the same answers\n",
        "\n",
        "import warnings\n",
        "warnings.filterwarnings('ignore')\n",
        "import matplotlib as mpl\n",
        "import seaborn as sns\n",
        "from math import ceil\n",
        "import scipy.stats as stats\n",
        "import statsmodels.stats.api as sms\n",
        "\n",
        "from statsmodels.stats.proportion import proportions_ztest, proportion_confint\n",
        "plt.style.use('seaborn-whitegrid')"
      ],
      "metadata": {
        "id": "HopSMG5dEHUr"
      },
      "execution_count": 34,
      "outputs": []
    },
    {
      "cell_type": "markdown",
      "source": [
        "#2. Load Data"
      ],
      "metadata": {
        "id": "pMd8OBe5EM1d"
      }
    },
    {
      "cell_type": "code",
      "execution_count": 2,
      "metadata": {
        "id": "vjDNGfbg6_RC"
      },
      "outputs": [],
      "source": [
        "df = pd.read_csv('ab_data.csv')"
      ]
    },
    {
      "cell_type": "code",
      "source": [
        "#df.info()\n",
        "df.shape"
      ],
      "metadata": {
        "colab": {
          "base_uri": "https://localhost:8080/"
        },
        "id": "haBuMvXCEWeD",
        "outputId": "55f4a7b4-1c7d-4fd2-9445-905366f0409f"
      },
      "execution_count": 3,
      "outputs": [
        {
          "output_type": "execute_result",
          "data": {
            "text/plain": [
              "(294478, 5)"
            ]
          },
          "metadata": {},
          "execution_count": 3
        }
      ]
    },
    {
      "cell_type": "markdown",
      "source": [
        "The dataset contains 294478 instances. Two attributes are numeric (user_id and converted)"
      ],
      "metadata": {
        "id": "iKrLIAcJE1yq"
      }
    },
    {
      "cell_type": "markdown",
      "source": [
        "#3. Data cleaning"
      ],
      "metadata": {
        "id": "eMopvh8BFG-N"
      }
    },
    {
      "cell_type": "code",
      "source": [
        "df.user_id.nunique()"
      ],
      "metadata": {
        "colab": {
          "base_uri": "https://localhost:8080/"
        },
        "id": "he482H_pEpaU",
        "outputId": "75fcbe87-fcdc-40ff-a2c3-2c1d783b9d0a"
      },
      "execution_count": 4,
      "outputs": [
        {
          "output_type": "execute_result",
          "data": {
            "text/plain": [
              "290584"
            ]
          },
          "metadata": {},
          "execution_count": 4
        }
      ]
    },
    {
      "cell_type": "markdown",
      "source": [
        "The unique values of user ID is lower than the number of instances."
      ],
      "metadata": {
        "id": "Uj99MHsHFSrM"
      }
    },
    {
      "cell_type": "code",
      "source": [
        "df.user_id.value_counts().sort_values(ascending=False)"
      ],
      "metadata": {
        "colab": {
          "base_uri": "https://localhost:8080/"
        },
        "id": "gi_IMHDdFOWv",
        "outputId": "1bb27781-a294-446d-a1ee-b023f565cd83"
      },
      "execution_count": 5,
      "outputs": [
        {
          "output_type": "execute_result",
          "data": {
            "text/plain": [
              "805339    2\n",
              "856917    2\n",
              "834370    2\n",
              "703112    2\n",
              "823617    2\n",
              "         ..\n",
              "898500    1\n",
              "731985    1\n",
              "759926    1\n",
              "941223    1\n",
              "715931    1\n",
              "Name: user_id, Length: 290584, dtype: int64"
            ]
          },
          "metadata": {},
          "execution_count": 5
        }
      ]
    },
    {
      "cell_type": "markdown",
      "source": [
        "The dataset contains duplicates. Only remains the first instance."
      ],
      "metadata": {
        "id": "2rJZL4ltGAGh"
      }
    },
    {
      "cell_type": "code",
      "source": [
        "df.drop_duplicates(subset ='user_id',keep ='first',inplace = True)\n",
        "df.user_id.nunique()"
      ],
      "metadata": {
        "colab": {
          "base_uri": "https://localhost:8080/"
        },
        "id": "OUeqjGp3F6h7",
        "outputId": "5f5bae55-6158-4187-96ff-f914bf28a401"
      },
      "execution_count": 6,
      "outputs": [
        {
          "output_type": "execute_result",
          "data": {
            "text/plain": [
              "290584"
            ]
          },
          "metadata": {},
          "execution_count": 6
        }
      ]
    },
    {
      "cell_type": "code",
      "source": [
        "df.shape"
      ],
      "metadata": {
        "colab": {
          "base_uri": "https://localhost:8080/"
        },
        "id": "Ykc99QM1Gt1A",
        "outputId": "83aa0300-f096-4873-c5eb-89d97e178c72"
      },
      "execution_count": 7,
      "outputs": [
        {
          "output_type": "execute_result",
          "data": {
            "text/plain": [
              "(290584, 5)"
            ]
          },
          "metadata": {},
          "execution_count": 7
        }
      ]
    },
    {
      "cell_type": "code",
      "source": [
        "#Check for missing values\n",
        "df.isna().sum()\n"
      ],
      "metadata": {
        "colab": {
          "base_uri": "https://localhost:8080/"
        },
        "id": "0QFwyX7XGwM0",
        "outputId": "f2d5ae33-2a6b-460b-e0df-7360dd841613"
      },
      "execution_count": 8,
      "outputs": [
        {
          "output_type": "execute_result",
          "data": {
            "text/plain": [
              "user_id         0\n",
              "timestamp       0\n",
              "group           0\n",
              "landing_page    0\n",
              "converted       0\n",
              "dtype: int64"
            ]
          },
          "metadata": {},
          "execution_count": 8
        }
      ]
    },
    {
      "cell_type": "markdown",
      "source": [
        "No missing values in dataset."
      ],
      "metadata": {
        "id": "MCrn6I3uLekt"
      }
    },
    {
      "cell_type": "code",
      "source": [
        "#Checking for mismatch in this dataset\n",
        "n_treat = df[df[\"group\"] == \"treatment\"].shape[0]\n",
        "n_new_page = df[df[\"landing_page\"] == \"new_page\"].shape[0]\n",
        "\n",
        "print('The difference between treatment and new page instance is', n_treat - n_new_page)"
      ],
      "metadata": {
        "colab": {
          "base_uri": "https://localhost:8080/"
        },
        "id": "XYYofHruLdcE",
        "outputId": "133fa8f7-6bb5-4b33-8753-cbdc95afd901"
      },
      "execution_count": 9,
      "outputs": [
        {
          "output_type": "stream",
          "name": "stdout",
          "text": [
            "The difference between treatment and new page instance is 32\n"
          ]
        }
      ]
    },
    {
      "cell_type": "markdown",
      "source": [
        "The number of users given treatment differs from the user number landed in new page."
      ],
      "metadata": {
        "id": "RosCKM1dOZcj"
      }
    },
    {
      "cell_type": "code",
      "source": [
        "# Number of user given treatment landed in old page\n",
        "print('User given treatment landed in old page:',df[(df[\"group\"] == \"treatment\") & (df[\"landing_page\"] == \"old_page\")].shape[0])"
      ],
      "metadata": {
        "colab": {
          "base_uri": "https://localhost:8080/"
        },
        "id": "IiiGOW5QNLii",
        "outputId": "72781870-c351-4da1-ab66-3da11004fe20"
      },
      "execution_count": 10,
      "outputs": [
        {
          "output_type": "stream",
          "name": "stdout",
          "text": [
            "User given treatment landed in old page: 1038\n"
          ]
        }
      ]
    },
    {
      "cell_type": "markdown",
      "source": [
        "1038 users classified as getting treatment landed on the old page."
      ],
      "metadata": {
        "id": "TbpghJrPPHDp"
      }
    },
    {
      "cell_type": "code",
      "source": [
        "# Control group landed in new page\n",
        "print('Control group landed in new page:',df[(df[\"group\"] == \"control\") & (df[\"landing_page\"] == \"new_page\")].shape[0])"
      ],
      "metadata": {
        "colab": {
          "base_uri": "https://localhost:8080/"
        },
        "id": "EVCOy06oO9Zu",
        "outputId": "3c6537fd-9995-434d-8970-1cf9e702167d"
      },
      "execution_count": 11,
      "outputs": [
        {
          "output_type": "stream",
          "name": "stdout",
          "text": [
            "Control group landed in new page: 1006\n"
          ]
        }
      ]
    },
    {
      "cell_type": "markdown",
      "source": [
        " 1006 users classified as control group landed on the new page"
      ],
      "metadata": {
        "id": "EqTy7U3mPyZQ"
      }
    },
    {
      "cell_type": "code",
      "source": [
        "# Cross tabulation\n",
        "\n",
        "mpl.style.use('default')\n",
        "CrosstabResult=pd.crosstab(index=df['group'],columns=df['landing_page'])\n",
        "CrosstabResult.plot.bar(figsize=(10,5), rot = 0 )\n",
        "plt.grid(axis = 'y')"
      ],
      "metadata": {
        "colab": {
          "base_uri": "https://localhost:8080/",
          "height": 465
        },
        "id": "ehbjOMGBPfO0",
        "outputId": "b65a9f5d-9ca7-4643-a0ef-c2f0be242847"
      },
      "execution_count": 12,
      "outputs": [
        {
          "output_type": "display_data",
          "data": {
            "text/plain": [
              "<Figure size 1000x500 with 1 Axes>"
            ],
            "image/png": "[encoded data removed]"
          },
          "metadata": {}
        }
      ]
    },
    {
      "cell_type": "markdown",
      "source": [
        "The previous figure indicates overlapping between group and landing page values."
      ],
      "metadata": {
        "id": "st9JR-nyQdjF"
      }
    },
    {
      "cell_type": "code",
      "source": [
        "CrosstabResult"
      ],
      "metadata": {
        "colab": {
          "base_uri": "https://localhost:8080/",
          "height": 143
        },
        "id": "8vDFH6WuP_j-",
        "outputId": "5cc78e07-5de5-4ddd-d61e-80ee819999ed"
      },
      "execution_count": 13,
      "outputs": [
        {
          "output_type": "execute_result",
          "data": {
            "text/plain": [
              "landing_page  new_page  old_page\n",
              "group                           \n",
              "control           1006    144226\n",
              "treatment       144314      1038"
            ],
            "text/html": [
              "\n",
              "  <div id=\"df-72fd095d-f8a6-4d58-bc2a-d7ff53b785db\">\n",
              "    <div class=\"colab-df-container\">\n",
              "      <div>\n",
              "<style scoped>\n",
              "    .dataframe tbody tr th:only-of-type {\n",
              "        vertical-align: middle;\n",
              "    }\n",
              "\n",
              "    .dataframe tbody tr th {\n",
              "        vertical-align: top;\n",
              "    }\n",
              "\n",
              "    .dataframe thead th {\n",
              "        text-align: right;\n",
              "    }\n",
              "</style>\n",
              "<table border=\"1\" class=\"dataframe\">\n",
              "  <thead>\n",
              "    <tr style=\"text-align: right;\">\n",
              "      <th>landing_page</th>\n",
              "      <th>new_page</th>\n",
              "      <th>old_page</th>\n",
              "    </tr>\n",
              "    <tr>\n",
              "      <th>group</th>\n",
              "      <th></th>\n",
              "      <th></th>\n",
              "    </tr>\n",
              "  </thead>\n",
              "  <tbody>\n",
              "    <tr>\n",
              "      <th>control</th>\n",
              "      <td>1006</td>\n",
              "      <td>144226</td>\n",
              "    </tr>\n",
              "    <tr>\n",
              "      <th>treatment</th>\n",
              "      <td>144314</td>\n",
              "      <td>1038</td>\n",
              "    </tr>\n",
              "  </tbody>\n",
              "</table>\n",
              "</div>\n",
              "      <button class=\"colab-df-convert\" onclick=\"convertToInteractive('df-72fd095d-f8a6-4d58-bc2a-d7ff53b785db')\"\n",
              "              title=\"Convert this dataframe to an interactive table.\"\n",
              "              style=\"display:none;\">\n",
              "        \n",
              "  <svg xmlns=\"http://www.w3.org/2000/svg\" height=\"24px\"viewBox=\"0 0 24 24\"\n",
              "       width=\"24px\">\n",
              "    <path d=\"M0 0h24v24H0V0z\" fill=\"none\"/>\n",
              "    <path d=\"M18.56 5.44l.94 2.06.94-2.06 2.06-.94-2.06-.94-.94-2.06-.94 2.06-2.06.94zm-11 1L8.5 8.5l.94-2.06 2.06-.94-2.06-.94L8.5 2.5l-.94 2.06-2.06.94zm10 10l.94 2.06.94-2.06 2.06-.94-2.06-.94-.94-2.06-.94 2.06-2.06.94z\"/><path d=\"M17.41 7.96l-1.37-1.37c-.4-.4-.92-.59-1.43-.59-.52 0-1.04.2-1.43.59L10.3 9.45l-7.72 7.72c-.78.78-.78 2.05 0 2.83L4 21.41c.39.39.9.59 1.41.59.51 0 1.02-.2 1.41-.59l7.78-7.78 2.81-2.81c.8-.78.8-2.07 0-2.86zM5.41 20L4 18.59l7.72-7.72 1.47 1.35L5.41 20z\"/>\n",
              "  </svg>\n",
              "      </button>\n",
              "      \n",
              "  <style>\n",
              "    .colab-df-container {\n",
              "      display:flex;\n",
              "      flex-wrap:wrap;\n",
              "      gap: 12px;\n",
              "    }\n",
              "\n",
              "    .colab-df-convert {\n",
              "      background-color: #E8F0FE;\n",
              "      border: none;\n",
              "      border-radius: 50%;\n",
              "      cursor: pointer;\n",
              "      display: none;\n",
              "      fill: #1967D2;\n",
              "      height: 32px;\n",
              "      padding: 0 0 0 0;\n",
              "      width: 32px;\n",
              "    }\n",
              "\n",
              "    .colab-df-convert:hover {\n",
              "      background-color: #E2EBFA;\n",
              "      box-shadow: 0px 1px 2px rgba(60, 64, 67, 0.3), 0px 1px 3px 1px rgba(60, 64, 67, 0.15);\n",
              "      fill: #174EA6;\n",
              "    }\n",
              "\n",
              "    [theme=dark] .colab-df-convert {\n",
              "      background-color: #3B4455;\n",
              "      fill: #D2E3FC;\n",
              "    }\n",
              "\n",
              "    [theme=dark] .colab-df-convert:hover {\n",
              "      background-color: #434B5C;\n",
              "      box-shadow: 0px 1px 3px 1px rgba(0, 0, 0, 0.15);\n",
              "      filter: drop-shadow(0px 1px 2px rgba(0, 0, 0, 0.3));\n",
              "      fill: #FFFFFF;\n",
              "    }\n",
              "  </style>\n",
              "\n",
              "      <script>\n",
              "        const buttonEl =\n",
              "          document.querySelector('#df-72fd095d-f8a6-4d58-bc2a-d7ff53b785db button.colab-df-convert');\n",
              "        buttonEl.style.display =\n",
              "          google.colab.kernel.accessAllowed ? 'block' : 'none';\n",
              "\n",
              "        async function convertToInteractive(key) {\n",
              "          const element = document.querySelector('#df-72fd095d-f8a6-4d58-bc2a-d7ff53b785db');\n",
              "          const dataTable =\n",
              "            await google.colab.kernel.invokeFunction('convertToInteractive',\n",
              "                                                     [key], {});\n",
              "          if (!dataTable) return;\n",
              "\n",
              "          const docLinkHtml = 'Like what you see? Visit the ' +\n",
              "            '<a target=\"_blank\" href=https://colab.research.google.com/notebooks/data_table.ipynb>data table notebook</a>'\n",
              "            + ' to learn more about interactive tables.';\n",
              "          element.innerHTML = '';\n",
              "          dataTable['output_type'] = 'display_data';\n",
              "          await google.colab.output.renderOutput(dataTable, element);\n",
              "          const docLink = document.createElement('div');\n",
              "          docLink.innerHTML = docLinkHtml;\n",
              "          element.appendChild(docLink);\n",
              "        }\n",
              "      </script>\n",
              "    </div>\n",
              "  </div>\n",
              "  "
            ]
          },
          "metadata": {},
          "execution_count": 13
        }
      ]
    },
    {
      "cell_type": "code",
      "source": [
        "# Proportion of mismatched instances\n",
        "n_mismatch = CrosstabResult.loc['control','new_page'] + CrosstabResult.loc['treatment','old_page']\n",
        "percent_mismatch = round(n_mismatch/len(df) * 100,2)"
      ],
      "metadata": {
        "id": "wLYJbNv4QtVk"
      },
      "execution_count": 14,
      "outputs": []
    },
    {
      "cell_type": "code",
      "source": [
        "print(f'Percent of mismatched rows: {percent_mismatch} %')"
      ],
      "metadata": {
        "colab": {
          "base_uri": "https://localhost:8080/"
        },
        "id": "YSkzm5keRKIb",
        "outputId": "759a2602-c244-481c-c7be-29dd26bab10e"
      },
      "execution_count": 15,
      "outputs": [
        {
          "output_type": "stream",
          "name": "stdout",
          "text": [
            "Percent of mismatched rows: 0.7 %\n"
          ]
        }
      ]
    },
    {
      "cell_type": "markdown",
      "source": [
        "The mismatched rows represents only 0.7% of the whole data. Hence, the mismatched data in removed."
      ],
      "metadata": {
        "id": "57hLxF_iUtWA"
      }
    },
    {
      "cell_type": "code",
      "source": [
        "df = df[(df[\"group\"] == \"treatment\") & (df[\"landing_page\"] == \"new_page\")\n",
        "        |(df[\"group\"] == \"control\") & (df[\"landing_page\"] == \"old_page\")]\n"
      ],
      "metadata": {
        "id": "wuHHDVggW-GC"
      },
      "execution_count": 16,
      "outputs": []
    },
    {
      "cell_type": "code",
      "source": [
        "# check mismatch data\n",
        "print(\"Current mismatch data: \" + str(df[((df['group'] == 'treatment') == (df['landing_page'] == 'new_page')) == False].shape[0]))"
      ],
      "metadata": {
        "colab": {
          "base_uri": "https://localhost:8080/"
        },
        "id": "LaS4KwN6XDDB",
        "outputId": "9fc19660-8c33-4aeb-83fa-abbf8d5afa5d"
      },
      "execution_count": 17,
      "outputs": [
        {
          "output_type": "stream",
          "name": "stdout",
          "text": [
            "Current mismatch data: 0\n"
          ]
        }
      ]
    },
    {
      "cell_type": "code",
      "source": [
        "df = df.drop_duplicates(\"user_id\")"
      ],
      "metadata": {
        "id": "i1gi7JNAXFhl"
      },
      "execution_count": 18,
      "outputs": []
    },
    {
      "cell_type": "code",
      "source": [
        "# Check duplicates\n",
        "print(\"Number of duplicated user : \"+str(len(df[df.duplicated(subset = [\"user_id\"])==True])))"
      ],
      "metadata": {
        "colab": {
          "base_uri": "https://localhost:8080/"
        },
        "id": "_BMByitoXK5G",
        "outputId": "3d11e59a-f623-44e5-e9a7-54354885f62d"
      },
      "execution_count": 19,
      "outputs": [
        {
          "output_type": "stream",
          "name": "stdout",
          "text": [
            "Number of duplicated user : 0\n"
          ]
        }
      ]
    },
    {
      "cell_type": "markdown",
      "source": [
        "#3. Experimental design\n",
        "\n",
        "A two tailed test is applied.\n",
        "- Null hypothesis:  H0: p=p0\n",
        "- Alternative hypothesis:  Ha: p≠p0\n",
        " \n",
        "where p and p0 stand for the conversion rate of the new and old page, respectively. The confidence level selected is 95%. Hence, α = 0.05\n",
        " \n",
        "###Metric\n",
        "The conversion rate is a binary variable:\n",
        "- 0 : The user did not pay for the product (not converted)\n",
        "- 1 : The user pay for the product (converted)\n",
        "\n",
        "\n",
        "###Determining sample size\n",
        "\n",
        "In general, large sample size coupled with small confidence interval leads to higher chance of detecting difference between two groups. \n",
        "\n",
        "In this case, there is no information about how big a difference of conversion rate should be. For this reason, it is assumed Rate conversion of +3%."
      ],
      "metadata": {
        "id": "qm9FaxQJXspK"
      }
    },
    {
      "cell_type": "markdown",
      "source": [
        "What is the conversion rate of control group?"
      ],
      "metadata": {
        "id": "DZyGILbR3SgO"
      }
    },
    {
      "cell_type": "code",
      "source": [
        "df.user_id = df.user_id.astype(str)\n",
        "\n",
        "control_convert_rate = df[df['group'] == 'control']['converted'].mean() * 100\n",
        "\n",
        "print (\"Conversion rate of control group : \"+ str(round(control_convert_rate,3)) + \"%\")"
      ],
      "metadata": {
        "id": "n8jlK0JCXb76",
        "colab": {
          "base_uri": "https://localhost:8080/"
        },
        "outputId": "5ee0dc44-571a-4c5f-9c7a-42fed022e725"
      },
      "execution_count": 20,
      "outputs": [
        {
          "output_type": "stream",
          "name": "stdout",
          "text": [
            "Conversion rate of control group : 12.029%\n"
          ]
        }
      ]
    },
    {
      "cell_type": "markdown",
      "source": [
        "Based on the previous assumption, It can be used 12.029% and 15.029% to determine the expected effect size."
      ],
      "metadata": {
        "id": "IM3IjGGW3o7t"
      }
    },
    {
      "cell_type": "code",
      "source": [
        "effect_size = sms.proportion_effectsize(control_convert_rate/100, control_convert_rate/100+0.03)\n",
        "\n",
        "# Sample size needed\n",
        "required_n = sms.NormalIndPower().solve_power(\n",
        "    effect_size, \n",
        "    power=0.8, # Default balue\n",
        "    alpha=0.05, # Confidence\n",
        "    ratio=1\n",
        "    )                                                  \n",
        "\n",
        "required_n = ceil(required_n)                          # Rounding up to next whole number                          \n",
        "\n",
        "print(\"required data for each group : \" + str(required_n))"
      ],
      "metadata": {
        "colab": {
          "base_uri": "https://localhost:8080/"
        },
        "id": "jpiI6Pz75HYa",
        "outputId": "c7849ff3-cb14-44ed-840a-d572729fbb11"
      },
      "execution_count": 27,
      "outputs": [
        {
          "output_type": "stream",
          "name": "stdout",
          "text": [
            "required data for each group : 2035\n"
          ]
        }
      ]
    },
    {
      "cell_type": "markdown",
      "source": [
        "At least 2035 observations for each group are required."
      ],
      "metadata": {
        "id": "FAh8Hg-a7Sss"
      }
    },
    {
      "cell_type": "code",
      "source": [
        "df.group.value_counts()"
      ],
      "metadata": {
        "colab": {
          "base_uri": "https://localhost:8080/"
        },
        "id": "v08xWUpI5b8M",
        "outputId": "9ed41986-b034-481b-f0ba-758f3f36b4b8"
      },
      "execution_count": 28,
      "outputs": [
        {
          "output_type": "execute_result",
          "data": {
            "text/plain": [
              "treatment    144314\n",
              "control      144226\n",
              "Name: group, dtype: int64"
            ]
          },
          "metadata": {},
          "execution_count": 28
        }
      ]
    },
    {
      "cell_type": "markdown",
      "source": [
        "Each group have around 144000 data for each group, which is larger than the data required for the experiment."
      ],
      "metadata": {
        "id": "aMK0HJPk7o9P"
      }
    },
    {
      "cell_type": "code",
      "source": [
        "conversion_rates = df.groupby('group')['converted']\n",
        "\n",
        "# Std. deviation of the proportion\n",
        "std_p = lambda x: np.std(x, ddof=0)  \n",
        "\n",
        "# Std. error of the proportion (std / sqrt(n))\n",
        "se_p = lambda x: stats.sem(x, ddof=0)            \n",
        "\n",
        "conversion_rates = conversion_rates.agg([np.mean, std_p, se_p])\n",
        "conversion_rates.columns = ['conversion_rate', 'std_deviation', 'std_error']\n",
        "\n",
        "conversion_rates.style.format('{:.5f}')"
      ],
      "metadata": {
        "colab": {
          "base_uri": "https://localhost:8080/",
          "height": 143
        },
        "id": "nczERjBE7cD8",
        "outputId": "de44356b-3dd2-4c54-e08b-b136d744949b"
      },
      "execution_count": 29,
      "outputs": [
        {
          "output_type": "execute_result",
          "data": {
            "text/plain": [
              "<pandas.io.formats.style.Styler at 0x7fef083ef670>"
            ],
            "text/html": [
              "<style type=\"text/css\">\n",
              "</style>\n",
              "<table id=\"T_8dac1\" class=\"dataframe\">\n",
              "  <thead>\n",
              "    <tr>\n",
              "      <th class=\"blank level0\" >&nbsp;</th>\n",
              "      <th id=\"T_8dac1_level0_col0\" class=\"col_heading level0 col0\" >conversion_rate</th>\n",
              "      <th id=\"T_8dac1_level0_col1\" class=\"col_heading level0 col1\" >std_deviation</th>\n",
              "      <th id=\"T_8dac1_level0_col2\" class=\"col_heading level0 col2\" >std_error</th>\n",
              "    </tr>\n",
              "    <tr>\n",
              "      <th class=\"index_name level0\" >group</th>\n",
              "      <th class=\"blank col0\" >&nbsp;</th>\n",
              "      <th class=\"blank col1\" >&nbsp;</th>\n",
              "      <th class=\"blank col2\" >&nbsp;</th>\n",
              "    </tr>\n",
              "  </thead>\n",
              "  <tbody>\n",
              "    <tr>\n",
              "      <th id=\"T_8dac1_level0_row0\" class=\"row_heading level0 row0\" >control</th>\n",
              "      <td id=\"T_8dac1_row0_col0\" class=\"data row0 col0\" >0.12029</td>\n",
              "      <td id=\"T_8dac1_row0_col1\" class=\"data row0 col1\" >0.32530</td>\n",
              "      <td id=\"T_8dac1_row0_col2\" class=\"data row0 col2\" >0.00086</td>\n",
              "    </tr>\n",
              "    <tr>\n",
              "      <th id=\"T_8dac1_level0_row1\" class=\"row_heading level0 row1\" >treatment</th>\n",
              "      <td id=\"T_8dac1_row1_col0\" class=\"data row1 col0\" >0.11873</td>\n",
              "      <td id=\"T_8dac1_row1_col1\" class=\"data row1 col1\" >0.32347</td>\n",
              "      <td id=\"T_8dac1_row1_col2\" class=\"data row1 col2\" >0.00085</td>\n",
              "    </tr>\n",
              "  </tbody>\n",
              "</table>\n"
            ]
          },
          "metadata": {},
          "execution_count": 29
        }
      ]
    },
    {
      "cell_type": "markdown",
      "source": [
        "Old page converts more than the new page, 12% and 11.9%, respectively."
      ],
      "metadata": {
        "id": "cI_1KCih86_N"
      }
    },
    {
      "cell_type": "code",
      "source": [
        "plt.figure(figsize=(8,6))\n",
        "sns.barplot(x=df['group'], y=df['converted']*100, ci=False)\n",
        "\n",
        "plt.ylim(0, 13)\n",
        "plt.title('Conversion rate by group', pad=20)\n",
        "plt.xlabel('Group', labelpad=15)\n",
        "plt.ylabel('Converted (proportion)', labelpad=15);"
      ],
      "metadata": {
        "colab": {
          "base_uri": "https://localhost:8080/",
          "height": 592
        },
        "id": "zBiYY0Yb-BOO",
        "outputId": "bbc9a8b7-ab4c-4c9e-ff3b-c65fb6c1d1ea"
      },
      "execution_count": 32,
      "outputs": [
        {
          "output_type": "display_data",
          "data": {
            "text/plain": [
              "<Figure size 800x600 with 1 Axes>"
            ],
            "image/png": "[encoded data removed]"
          },
          "metadata": {}
        }
      ]
    },
    {
      "cell_type": "markdown",
      "source": [
        "The initial evidence suggests that new page has no significant impact in conversion."
      ],
      "metadata": {
        "id": "Ml3RZEpr-fZ8"
      }
    },
    {
      "cell_type": "markdown",
      "source": [
        "#4. Hypothesis Testing (A/B Test)\n",
        "\n",
        "z-test to calculate p-value can be used considering the large volume of data. Otherwise, t-student test can be performed instead."
      ],
      "metadata": {
        "id": "LMDw4o8f-6DC"
      }
    },
    {
      "cell_type": "code",
      "source": [
        "# p-value and confidence interval for each group\n",
        "\n",
        "control_results = df[df['group'] == 'control']['converted']\n",
        "treatment_results = df[df['group'] == 'treatment']['converted']\n",
        "n_con = control_results.count()\n",
        "n_treat = treatment_results.count()\n",
        "successes = [control_results.sum(), treatment_results.sum()]\n",
        "nobs = [n_con, n_treat]\n",
        "\n",
        "z_stat, pval = proportions_ztest(successes, nobs=nobs)\n",
        "(lower_con, lower_treat), (upper_con, upper_treat) = proportion_confint(successes, nobs=nobs, alpha=0.05)\n",
        "\n",
        "print(f'z statistic: {z_stat:.2f}')\n",
        "print(f'p-value: {pval:.3f}')\n",
        "print(f'ci 95% for control group: [{lower_con:.3f}, {upper_con:.3f}]')\n",
        "print(f'ci 95% for treatment group: [{lower_treat:.3f}, {upper_treat:.3f}]')"
      ],
      "metadata": {
        "colab": {
          "base_uri": "https://localhost:8080/"
        },
        "id": "HJOFXrYc-Q-8",
        "outputId": "f9284fdc-f93b-476f-8000-15710c73ba3d"
      },
      "execution_count": 35,
      "outputs": [
        {
          "output_type": "stream",
          "name": "stdout",
          "text": [
            "z statistic: 1.29\n",
            "p-value: 0.196\n",
            "ci 95% for control group: [0.119, 0.122]\n",
            "ci 95% for treatment group: [0.117, 0.120]\n"
          ]
        }
      ]
    },
    {
      "cell_type": "markdown",
      "source": [
        "#5. Conclusions\n",
        "- p-value = 0.190, which is above than α=0.05 threshold. \n",
        "- The p-value suggests that the null hypothesis (H0) can not be rejected. Hence, the new page did not perform significantly different (or even better) than the old page.\n",
        "- The confidence interval of the treatment group [0.117, 0.120] or 11.7-12% includes the baseline value of 12.029% and does not include the target value of 15.029% (2% increase in conversion rate)."
      ],
      "metadata": {
        "id": "q8uMmMboBDy8"
      }
    }
  ]
}