{
  "nbformat": 4,
  "nbformat_minor": 0,
  "metadata": {
    "colab": {
      "provenance": [],
      "authorship_tag": "ABX9TyPaYYF4Dsp6IyrBZV6+uiPT",
      "include_colab_link": true
    },
    "kernelspec": {
      "name": "python3",
      "display_name": "Python 3"
    },
    "language_info": {
      "name": "python"
    }
  },
  "cells": [
    {
      "cell_type": "markdown",
      "metadata": {
        "id": "view-in-github",
        "colab_type": "text"
      },
      "source": [
        "<a href=\"https://colab.research.google.com/github/troncosofranco/ML-Notebooks/blob/main/Fraud_Detection_w_MLFlow.ipynb\" target=\"_parent\"><img src=\"https://colab.research.google.com/assets/colab-badge.svg\" alt=\"Open In Colab\"/></a>"
      ]
    },
    {
      "cell_type": "markdown",
      "source": [
        "#1. Import modules"
      ],
      "metadata": {
        "id": "4dvaqUvK1OIX"
      }
    },
    {
      "cell_type": "code",
      "execution_count": 1,
      "metadata": {
        "id": "QfByXvV11JSw",
        "colab": {
          "base_uri": "https://localhost:8080/"
        },
        "outputId": "55168136-4d04-4afe-f298-1d62310c2792"
      },
      "outputs": [
        {
          "output_type": "stream",
          "name": "stdout",
          "text": [
            "Looking in indexes: https://pypi.org/simple, https://us-python.pkg.dev/colab-wheels/public/simple/\n",
            "Collecting mlflow\n",
            "  Downloading mlflow-2.1.1-py3-none-any.whl (16.7 MB)\n",
            "\u001b[2K     \u001b[90m━━━━━━━━━━━━━━━━━━━━━━━━━━━━━━━━━━━━━━━━\u001b[0m \u001b[32m16.7/16.7 MB\u001b[0m \u001b[31m90.8 MB/s\u001b[0m eta \u001b[36m0:00:00\u001b[0m\n",
            "\u001b[?25hCollecting gitpython<4,>=2.1.0\n",
            "  Downloading GitPython-3.1.30-py3-none-any.whl (184 kB)\n",
            "\u001b[2K     \u001b[90m━━━━━━━━━━━━━━━━━━━━━━━━━━━━━━━━━━━━━━\u001b[0m \u001b[32m184.0/184.0 KB\u001b[0m \u001b[31m17.8 MB/s\u001b[0m eta \u001b[36m0:00:00\u001b[0m\n",
            "\u001b[?25hRequirement already satisfied: pytz<2023 in /usr/local/lib/python3.8/dist-packages (from mlflow) (2022.7)\n",
            "Collecting databricks-cli<1,>=0.8.7\n",
            "  Downloading databricks-cli-0.17.4.tar.gz (82 kB)\n",
            "\u001b[2K     \u001b[90m━━━━━━━━━━━━━━━━━━━━━━━━━━━━━━━━━━━━━━━━\u001b[0m \u001b[32m82.3/82.3 KB\u001b[0m \u001b[31m7.6 MB/s\u001b[0m eta \u001b[36m0:00:00\u001b[0m\n",
            "\u001b[?25h  Preparing metadata (setup.py) ... \u001b[?25l\u001b[?25hdone\n",
            "Collecting docker<7,>=4.0.0\n",
            "  Downloading docker-6.0.1-py3-none-any.whl (147 kB)\n",
            "\u001b[2K     \u001b[90m━━━━━━━━━━━━━━━━━━━━━━━━━━━━━━━━━━━━━━\u001b[0m \u001b[32m147.5/147.5 KB\u001b[0m \u001b[31m18.8 MB/s\u001b[0m eta \u001b[36m0:00:00\u001b[0m\n",
            "\u001b[?25hRequirement already satisfied: Flask<3 in /usr/local/lib/python3.8/dist-packages (from mlflow) (1.1.4)\n",
            "Requirement already satisfied: packaging<23 in /usr/local/lib/python3.8/dist-packages (from mlflow) (21.3)\n",
            "Requirement already satisfied: cloudpickle<3 in /usr/local/lib/python3.8/dist-packages (from mlflow) (2.2.0)\n",
            "Collecting gunicorn<21\n",
            "  Downloading gunicorn-20.1.0-py3-none-any.whl (79 kB)\n",
            "\u001b[2K     \u001b[90m━━━━━━━━━━━━━━━━━━━━━━━━━━━━━━━━━━━━━━━━\u001b[0m \u001b[32m79.5/79.5 KB\u001b[0m \u001b[31m11.1 MB/s\u001b[0m eta \u001b[36m0:00:00\u001b[0m\n",
            "\u001b[?25hCollecting alembic<2\n",
            "  Downloading alembic-1.9.1-py3-none-any.whl (210 kB)\n",
            "\u001b[2K     \u001b[90m━━━━━━━━━━━━━━━━━━━━━━━━━━━━━━━━━━━━━━\u001b[0m \u001b[32m210.4/210.4 KB\u001b[0m \u001b[31m22.8 MB/s\u001b[0m eta \u001b[36m0:00:00\u001b[0m\n",
            "\u001b[?25hRequirement already satisfied: numpy<2 in /usr/local/lib/python3.8/dist-packages (from mlflow) (1.21.6)\n",
            "Collecting importlib-metadata!=4.7.0,<6,>=3.7.0\n",
            "  Downloading importlib_metadata-5.2.0-py3-none-any.whl (21 kB)\n",
            "Requirement already satisfied: requests<3,>=2.17.3 in /usr/local/lib/python3.8/dist-packages (from mlflow) (2.25.1)\n",
            "Requirement already satisfied: protobuf<5,>=3.12.0 in /usr/local/lib/python3.8/dist-packages (from mlflow) (3.19.6)\n",
            "Collecting shap<1,>=0.40\n",
            "  Downloading shap-0.41.0-cp38-cp38-manylinux_2_12_x86_64.manylinux2010_x86_64.whl (575 kB)\n",
            "\u001b[2K     \u001b[90m━━━━━━━━━━━━━━━━━━━━━━━━━━━━━━━━━━━━━━\u001b[0m \u001b[32m575.9/575.9 KB\u001b[0m \u001b[31m39.7 MB/s\u001b[0m eta \u001b[36m0:00:00\u001b[0m\n",
            "\u001b[?25hRequirement already satisfied: markdown<4,>=3.3 in /usr/local/lib/python3.8/dist-packages (from mlflow) (3.4.1)\n",
            "Requirement already satisfied: matplotlib<4 in /usr/local/lib/python3.8/dist-packages (from mlflow) (3.2.2)\n",
            "Requirement already satisfied: pyarrow<11,>=4.0.0 in /usr/local/lib/python3.8/dist-packages (from mlflow) (9.0.0)\n",
            "Requirement already satisfied: pyyaml<7,>=5.1 in /usr/local/lib/python3.8/dist-packages (from mlflow) (6.0)\n",
            "Requirement already satisfied: Jinja2<4,>=2.11 in /usr/local/lib/python3.8/dist-packages (from mlflow) (2.11.3)\n",
            "Requirement already satisfied: click<9,>=7.0 in /usr/local/lib/python3.8/dist-packages (from mlflow) (7.1.2)\n",
            "Requirement already satisfied: sqlparse<1,>=0.4.0 in /usr/local/lib/python3.8/dist-packages (from mlflow) (0.4.3)\n",
            "Collecting querystring-parser<2\n",
            "  Downloading querystring_parser-1.2.4-py2.py3-none-any.whl (7.9 kB)\n",
            "Requirement already satisfied: scipy<2 in /usr/local/lib/python3.8/dist-packages (from mlflow) (1.7.3)\n",
            "Requirement already satisfied: sqlalchemy<2,>=1.4.0 in /usr/local/lib/python3.8/dist-packages (from mlflow) (1.4.46)\n",
            "Requirement already satisfied: pandas<2 in /usr/local/lib/python3.8/dist-packages (from mlflow) (1.3.5)\n",
            "Requirement already satisfied: scikit-learn<2 in /usr/local/lib/python3.8/dist-packages (from mlflow) (1.0.2)\n",
            "Requirement already satisfied: entrypoints<1 in /usr/local/lib/python3.8/dist-packages (from mlflow) (0.4)\n",
            "Requirement already satisfied: importlib-resources in /usr/local/lib/python3.8/dist-packages (from alembic<2->mlflow) (5.10.2)\n",
            "Collecting Mako\n",
            "  Downloading Mako-1.2.4-py3-none-any.whl (78 kB)\n",
            "\u001b[2K     \u001b[90m━━━━━━━━━━━━━━━━━━━━━━━━━━━━━━━━━━━━━━━━\u001b[0m \u001b[32m78.7/78.7 KB\u001b[0m \u001b[31m9.9 MB/s\u001b[0m eta \u001b[36m0:00:00\u001b[0m\n",
            "\u001b[?25hCollecting pyjwt>=1.7.0\n",
            "  Downloading PyJWT-2.6.0-py3-none-any.whl (20 kB)\n",
            "Requirement already satisfied: oauthlib>=3.1.0 in /usr/local/lib/python3.8/dist-packages (from databricks-cli<1,>=0.8.7->mlflow) (3.2.2)\n",
            "Requirement already satisfied: tabulate>=0.7.7 in /usr/local/lib/python3.8/dist-packages (from databricks-cli<1,>=0.8.7->mlflow) (0.8.10)\n",
            "Requirement already satisfied: six>=1.10.0 in /usr/local/lib/python3.8/dist-packages (from databricks-cli<1,>=0.8.7->mlflow) (1.15.0)\n",
            "Collecting urllib3>=1.26.0\n",
            "  Downloading urllib3-1.26.14-py2.py3-none-any.whl (140 kB)\n",
            "\u001b[2K     \u001b[90m━━━━━━━━━━━━━━━━━━━━━━━━━━━━━━━━━━━━━━\u001b[0m \u001b[32m140.6/140.6 KB\u001b[0m \u001b[31m16.9 MB/s\u001b[0m eta \u001b[36m0:00:00\u001b[0m\n",
            "\u001b[?25hCollecting websocket-client>=0.32.0\n",
            "  Downloading websocket_client-1.4.2-py3-none-any.whl (55 kB)\n",
            "\u001b[2K     \u001b[90m━━━━━━━━━━━━━━━━━━━━━━━━━━━━━━━━━━━━━━━━\u001b[0m \u001b[32m55.3/55.3 KB\u001b[0m \u001b[31m6.5 MB/s\u001b[0m eta \u001b[36m0:00:00\u001b[0m\n",
            "\u001b[?25hCollecting requests<3,>=2.17.3\n",
            "  Downloading requests-2.28.1-py3-none-any.whl (62 kB)\n",
            "\u001b[2K     \u001b[90m━━━━━━━━━━━━━━━━━━━━━━━━━━━━━━━━━━━━━━━━\u001b[0m \u001b[32m62.8/62.8 KB\u001b[0m \u001b[31m7.3 MB/s\u001b[0m eta \u001b[36m0:00:00\u001b[0m\n",
            "\u001b[?25hRequirement already satisfied: Werkzeug<2.0,>=0.15 in /usr/local/lib/python3.8/dist-packages (from Flask<3->mlflow) (1.0.1)\n",
            "Requirement already satisfied: itsdangerous<2.0,>=0.24 in /usr/local/lib/python3.8/dist-packages (from Flask<3->mlflow) (1.1.0)\n",
            "Collecting gitdb<5,>=4.0.1\n",
            "  Downloading gitdb-4.0.10-py3-none-any.whl (62 kB)\n",
            "\u001b[2K     \u001b[90m━━━━━━━━━━━━━━━━━━━━━━━━━━━━━━━━━━━━━━━━\u001b[0m \u001b[32m62.7/62.7 KB\u001b[0m \u001b[31m7.7 MB/s\u001b[0m eta \u001b[36m0:00:00\u001b[0m\n",
            "\u001b[?25hRequirement already satisfied: setuptools>=3.0 in /usr/local/lib/python3.8/dist-packages (from gunicorn<21->mlflow) (57.4.0)\n",
            "Requirement already satisfied: zipp>=0.5 in /usr/local/lib/python3.8/dist-packages (from importlib-metadata!=4.7.0,<6,>=3.7.0->mlflow) (3.11.0)\n",
            "Requirement already satisfied: MarkupSafe>=0.23 in /usr/local/lib/python3.8/dist-packages (from Jinja2<4,>=2.11->mlflow) (2.0.1)\n",
            "Requirement already satisfied: kiwisolver>=1.0.1 in /usr/local/lib/python3.8/dist-packages (from matplotlib<4->mlflow) (1.4.4)\n",
            "Requirement already satisfied: python-dateutil>=2.1 in /usr/local/lib/python3.8/dist-packages (from matplotlib<4->mlflow) (2.8.2)\n",
            "Requirement already satisfied: cycler>=0.10 in /usr/local/lib/python3.8/dist-packages (from matplotlib<4->mlflow) (0.11.0)\n",
            "Requirement already satisfied: pyparsing!=2.0.4,!=2.1.2,!=2.1.6,>=2.0.1 in /usr/local/lib/python3.8/dist-packages (from matplotlib<4->mlflow) (3.0.9)\n",
            "Requirement already satisfied: charset-normalizer<3,>=2 in /usr/local/lib/python3.8/dist-packages (from requests<3,>=2.17.3->mlflow) (2.1.1)\n",
            "Requirement already satisfied: certifi>=2017.4.17 in /usr/local/lib/python3.8/dist-packages (from requests<3,>=2.17.3->mlflow) (2022.12.7)\n",
            "Requirement already satisfied: idna<4,>=2.5 in /usr/local/lib/python3.8/dist-packages (from requests<3,>=2.17.3->mlflow) (2.10)\n",
            "Requirement already satisfied: threadpoolctl>=2.0.0 in /usr/local/lib/python3.8/dist-packages (from scikit-learn<2->mlflow) (3.1.0)\n",
            "Requirement already satisfied: joblib>=0.11 in /usr/local/lib/python3.8/dist-packages (from scikit-learn<2->mlflow) (1.2.0)\n",
            "Requirement already satisfied: numba in /usr/local/lib/python3.8/dist-packages (from shap<1,>=0.40->mlflow) (0.56.4)\n",
            "Collecting slicer==0.0.7\n",
            "  Downloading slicer-0.0.7-py3-none-any.whl (14 kB)\n",
            "Requirement already satisfied: tqdm>4.25.0 in /usr/local/lib/python3.8/dist-packages (from shap<1,>=0.40->mlflow) (4.64.1)\n",
            "Requirement already satisfied: greenlet!=0.4.17 in /usr/local/lib/python3.8/dist-packages (from sqlalchemy<2,>=1.4.0->mlflow) (2.0.1)\n",
            "Collecting smmap<6,>=3.0.1\n",
            "  Downloading smmap-5.0.0-py3-none-any.whl (24 kB)\n",
            "Requirement already satisfied: llvmlite<0.40,>=0.39.0dev0 in /usr/local/lib/python3.8/dist-packages (from numba->shap<1,>=0.40->mlflow) (0.39.1)\n",
            "Building wheels for collected packages: databricks-cli\n",
            "  Building wheel for databricks-cli (setup.py) ... \u001b[?25l\u001b[?25hdone\n",
            "  Created wheel for databricks-cli: filename=databricks_cli-0.17.4-py3-none-any.whl size=142894 sha256=e2dcffcb6acb0c3f539dc9e520927edb0d7a4e3b83451d6ddb128e059bbd421d\n",
            "  Stored in directory: /root/.cache/pip/wheels/48/7c/6e/4bf2c1748c7ecf994ca951591de81674ed6bf633e1e337d873\n",
            "Successfully built databricks-cli\n",
            "Installing collected packages: websocket-client, urllib3, smmap, slicer, querystring-parser, pyjwt, Mako, importlib-metadata, gunicorn, requests, gitdb, alembic, shap, gitpython, docker, databricks-cli, mlflow\n",
            "  Attempting uninstall: urllib3\n",
            "    Found existing installation: urllib3 1.24.3\n",
            "    Uninstalling urllib3-1.24.3:\n",
            "      Successfully uninstalled urllib3-1.24.3\n",
            "  Attempting uninstall: importlib-metadata\n",
            "    Found existing installation: importlib-metadata 6.0.0\n",
            "    Uninstalling importlib-metadata-6.0.0:\n",
            "      Successfully uninstalled importlib-metadata-6.0.0\n",
            "  Attempting uninstall: requests\n",
            "    Found existing installation: requests 2.25.1\n",
            "    Uninstalling requests-2.25.1:\n",
            "      Successfully uninstalled requests-2.25.1\n",
            "Successfully installed Mako-1.2.4 alembic-1.9.1 databricks-cli-0.17.4 docker-6.0.1 gitdb-4.0.10 gitpython-3.1.30 gunicorn-20.1.0 importlib-metadata-5.2.0 mlflow-2.1.1 pyjwt-2.6.0 querystring-parser-1.2.4 requests-2.28.1 shap-0.41.0 slicer-0.0.7 smmap-5.0.0 urllib3-1.26.14 websocket-client-1.4.2\n"
          ]
        }
      ],
      "source": [
        "import numpy as np\n",
        "import pandas as pd\n",
        "import matplotlib.pyplot as plt\n",
        "import seaborn as sns\n",
        "\n",
        "# sklearn attributes\n",
        "from sklearn.linear_model import LogisticRegression\n",
        "from sklearn.model_selection import train_test_split\n",
        "from sklearn.preprocessing import StandardScaler\n",
        "from sklearn.metrics import roc_auc_score, plot_roc_curve, confusion_matrix\n",
        "from sklearn.model_selection import KFold\n",
        "\n",
        "# MLFlow attributes\n",
        "!pip install mlflow\n",
        "!pip install mlflow --quiet\n",
        "import mlflow\n",
        "import mlflow.sklearn"
      ]
    },
    {
      "cell_type": "code",
      "source": [
        "#Module version\n",
        "import matplotlib\n",
        "import sklearn\n",
        "print(\"Numpy: {}\".format(np.__version__))\n",
        "print(\"Pandas: {}\".format(pd.__version__))\n",
        "print(\"seaborn: {}\".format(matplotlib.__version__))\n",
        "print(\"seaborn: {}\".format(sns.__version__))\n",
        "print(\"Scikit-Learn: {}\".format(sklearn.__version__))\n",
        "print(\"MLFlow: {}\".format(mlflow.__version__))"
      ],
      "metadata": {
        "colab": {
          "base_uri": "https://localhost:8080/"
        },
        "id": "6a0_tFan1pe9",
        "outputId": "a11f8e43-8cce-4cb3-c640-6d65752068a1"
      },
      "execution_count": 2,
      "outputs": [
        {
          "output_type": "stream",
          "name": "stdout",
          "text": [
            "Numpy: 1.21.6\n",
            "Pandas: 1.3.5\n",
            "seaborn: 3.2.2\n",
            "seaborn: 0.11.2\n",
            "Scikit-Learn: 1.0.2\n",
            "MLFlow: 2.1.1\n"
          ]
        }
      ]
    },
    {
      "cell_type": "markdown",
      "source": [
        "#2. Load Data"
      ],
      "metadata": {
        "id": "qMEBY5lw2C8P"
      }
    },
    {
      "cell_type": "code",
      "source": [
        "df = pd.read_csv('creditcard.csv')\n",
        "df = df.drop(\"Time\", axis=1)"
      ],
      "metadata": {
        "id": "loCDWhv72FqW"
      },
      "execution_count": 3,
      "outputs": []
    },
    {
      "cell_type": "code",
      "source": [
        "df.head()"
      ],
      "metadata": {
        "id": "YoUTGvq_2ODf",
        "colab": {
          "base_uri": "https://localhost:8080/",
          "height": 299
        },
        "outputId": "a7a9d41d-1799-479c-85e5-88d8c52e42db"
      },
      "execution_count": 4,
      "outputs": [
        {
          "output_type": "execute_result",
          "data": {
            "text/plain": [
              "         V1        V2        V3        V4        V5        V6        V7  \\\n",
              "0 -1.359807 -0.072781  2.536347  1.378155 -0.338321  0.462388  0.239599   \n",
              "1  1.191857  0.266151  0.166480  0.448154  0.060018 -0.082361 -0.078803   \n",
              "2 -1.358354 -1.340163  1.773209  0.379780 -0.503198  1.800499  0.791461   \n",
              "3 -0.966272 -0.185226  1.792993 -0.863291 -0.010309  1.247203  0.237609   \n",
              "4 -1.158233  0.877737  1.548718  0.403034 -0.407193  0.095921  0.592941   \n",
              "\n",
              "         V8        V9       V10  ...       V21       V22       V23       V24  \\\n",
              "0  0.098698  0.363787  0.090794  ... -0.018307  0.277838 -0.110474  0.066928   \n",
              "1  0.085102 -0.255425 -0.166974  ... -0.225775 -0.638672  0.101288 -0.339846   \n",
              "2  0.247676 -1.514654  0.207643  ...  0.247998  0.771679  0.909412 -0.689281   \n",
              "3  0.377436 -1.387024 -0.054952  ... -0.108300  0.005274 -0.190321 -1.175575   \n",
              "4 -0.270533  0.817739  0.753074  ... -0.009431  0.798278 -0.137458  0.141267   \n",
              "\n",
              "        V25       V26       V27       V28  Amount  Class  \n",
              "0  0.128539 -0.189115  0.133558 -0.021053  149.62      0  \n",
              "1  0.167170  0.125895 -0.008983  0.014724    2.69      0  \n",
              "2 -0.327642 -0.139097 -0.055353 -0.059752  378.66      0  \n",
              "3  0.647376 -0.221929  0.062723  0.061458  123.50      0  \n",
              "4 -0.206010  0.502292  0.219422  0.215153   69.99      0  \n",
              "\n",
              "[5 rows x 30 columns]"
            ],
            "text/html": [
              "\n",
              "  <div id=\"df-06eab5a1-3d50-4d0e-9af4-200e88582fe0\">\n",
              "    <div class=\"colab-df-container\">\n",
              "      <div>\n",
              "<style scoped>\n",
              "    .dataframe tbody tr th:only-of-type {\n",
              "        vertical-align: middle;\n",
              "    }\n",
              "\n",
              "    .dataframe tbody tr th {\n",
              "        vertical-align: top;\n",
              "    }\n",
              "\n",
              "    .dataframe thead th {\n",
              "        text-align: right;\n",
              "    }\n",
              "</style>\n",
              "<table border=\"1\" class=\"dataframe\">\n",
              "  <thead>\n",
              "    <tr style=\"text-align: right;\">\n",
              "      <th></th>\n",
              "      <th>V1</th>\n",
              "      <th>V2</th>\n",
              "      <th>V3</th>\n",
              "      <th>V4</th>\n",
              "      <th>V5</th>\n",
              "      <th>V6</th>\n",
              "      <th>V7</th>\n",
              "      <th>V8</th>\n",
              "      <th>V9</th>\n",
              "      <th>V10</th>\n",
              "      <th>...</th>\n",
              "      <th>V21</th>\n",
              "      <th>V22</th>\n",
              "      <th>V23</th>\n",
              "      <th>V24</th>\n",
              "      <th>V25</th>\n",
              "      <th>V26</th>\n",
              "      <th>V27</th>\n",
              "      <th>V28</th>\n",
              "      <th>Amount</th>\n",
              "      <th>Class</th>\n",
              "    </tr>\n",
              "  </thead>\n",
              "  <tbody>\n",
              "    <tr>\n",
              "      <th>0</th>\n",
              "      <td>-1.359807</td>\n",
              "      <td>-0.072781</td>\n",
              "      <td>2.536347</td>\n",
              "      <td>1.378155</td>\n",
              "      <td>-0.338321</td>\n",
              "      <td>0.462388</td>\n",
              "      <td>0.239599</td>\n",
              "      <td>0.098698</td>\n",
              "      <td>0.363787</td>\n",
              "      <td>0.090794</td>\n",
              "      <td>...</td>\n",
              "      <td>-0.018307</td>\n",
              "      <td>0.277838</td>\n",
              "      <td>-0.110474</td>\n",
              "      <td>0.066928</td>\n",
              "      <td>0.128539</td>\n",
              "      <td>-0.189115</td>\n",
              "      <td>0.133558</td>\n",
              "      <td>-0.021053</td>\n",
              "      <td>149.62</td>\n",
              "      <td>0</td>\n",
              "    </tr>\n",
              "    <tr>\n",
              "      <th>1</th>\n",
              "      <td>1.191857</td>\n",
              "      <td>0.266151</td>\n",
              "      <td>0.166480</td>\n",
              "      <td>0.448154</td>\n",
              "      <td>0.060018</td>\n",
              "      <td>-0.082361</td>\n",
              "      <td>-0.078803</td>\n",
              "      <td>0.085102</td>\n",
              "      <td>-0.255425</td>\n",
              "      <td>-0.166974</td>\n",
              "      <td>...</td>\n",
              "      <td>-0.225775</td>\n",
              "      <td>-0.638672</td>\n",
              "      <td>0.101288</td>\n",
              "      <td>-0.339846</td>\n",
              "      <td>0.167170</td>\n",
              "      <td>0.125895</td>\n",
              "      <td>-0.008983</td>\n",
              "      <td>0.014724</td>\n",
              "      <td>2.69</td>\n",
              "      <td>0</td>\n",
              "    </tr>\n",
              "    <tr>\n",
              "      <th>2</th>\n",
              "      <td>-1.358354</td>\n",
              "      <td>-1.340163</td>\n",
              "      <td>1.773209</td>\n",
              "      <td>0.379780</td>\n",
              "      <td>-0.503198</td>\n",
              "      <td>1.800499</td>\n",
              "      <td>0.791461</td>\n",
              "      <td>0.247676</td>\n",
              "      <td>-1.514654</td>\n",
              "      <td>0.207643</td>\n",
              "      <td>...</td>\n",
              "      <td>0.247998</td>\n",
              "      <td>0.771679</td>\n",
              "      <td>0.909412</td>\n",
              "      <td>-0.689281</td>\n",
              "      <td>-0.327642</td>\n",
              "      <td>-0.139097</td>\n",
              "      <td>-0.055353</td>\n",
              "      <td>-0.059752</td>\n",
              "      <td>378.66</td>\n",
              "      <td>0</td>\n",
              "    </tr>\n",
              "    <tr>\n",
              "      <th>3</th>\n",
              "      <td>-0.966272</td>\n",
              "      <td>-0.185226</td>\n",
              "      <td>1.792993</td>\n",
              "      <td>-0.863291</td>\n",
              "      <td>-0.010309</td>\n",
              "      <td>1.247203</td>\n",
              "      <td>0.237609</td>\n",
              "      <td>0.377436</td>\n",
              "      <td>-1.387024</td>\n",
              "      <td>-0.054952</td>\n",
              "      <td>...</td>\n",
              "      <td>-0.108300</td>\n",
              "      <td>0.005274</td>\n",
              "      <td>-0.190321</td>\n",
              "      <td>-1.175575</td>\n",
              "      <td>0.647376</td>\n",
              "      <td>-0.221929</td>\n",
              "      <td>0.062723</td>\n",
              "      <td>0.061458</td>\n",
              "      <td>123.50</td>\n",
              "      <td>0</td>\n",
              "    </tr>\n",
              "    <tr>\n",
              "      <th>4</th>\n",
              "      <td>-1.158233</td>\n",
              "      <td>0.877737</td>\n",
              "      <td>1.548718</td>\n",
              "      <td>0.403034</td>\n",
              "      <td>-0.407193</td>\n",
              "      <td>0.095921</td>\n",
              "      <td>0.592941</td>\n",
              "      <td>-0.270533</td>\n",
              "      <td>0.817739</td>\n",
              "      <td>0.753074</td>\n",
              "      <td>...</td>\n",
              "      <td>-0.009431</td>\n",
              "      <td>0.798278</td>\n",
              "      <td>-0.137458</td>\n",
              "      <td>0.141267</td>\n",
              "      <td>-0.206010</td>\n",
              "      <td>0.502292</td>\n",
              "      <td>0.219422</td>\n",
              "      <td>0.215153</td>\n",
              "      <td>69.99</td>\n",
              "      <td>0</td>\n",
              "    </tr>\n",
              "  </tbody>\n",
              "</table>\n",
              "<p>5 rows × 30 columns</p>\n",
              "</div>\n",
              "      <button class=\"colab-df-convert\" onclick=\"convertToInteractive('df-06eab5a1-3d50-4d0e-9af4-200e88582fe0')\"\n",
              "              title=\"Convert this dataframe to an interactive table.\"\n",
              "              style=\"display:none;\">\n",
              "        \n",
              "  <svg xmlns=\"http://www.w3.org/2000/svg\" height=\"24px\"viewBox=\"0 0 24 24\"\n",
              "       width=\"24px\">\n",
              "    <path d=\"M0 0h24v24H0V0z\" fill=\"none\"/>\n",
              "    <path d=\"M18.56 5.44l.94 2.06.94-2.06 2.06-.94-2.06-.94-.94-2.06-.94 2.06-2.06.94zm-11 1L8.5 8.5l.94-2.06 2.06-.94-2.06-.94L8.5 2.5l-.94 2.06-2.06.94zm10 10l.94 2.06.94-2.06 2.06-.94-2.06-.94-.94-2.06-.94 2.06-2.06.94z\"/><path d=\"M17.41 7.96l-1.37-1.37c-.4-.4-.92-.59-1.43-.59-.52 0-1.04.2-1.43.59L10.3 9.45l-7.72 7.72c-.78.78-.78 2.05 0 2.83L4 21.41c.39.39.9.59 1.41.59.51 0 1.02-.2 1.41-.59l7.78-7.78 2.81-2.81c.8-.78.8-2.07 0-2.86zM5.41 20L4 18.59l7.72-7.72 1.47 1.35L5.41 20z\"/>\n",
              "  </svg>\n",
              "      </button>\n",
              "      \n",
              "  <style>\n",
              "    .colab-df-container {\n",
              "      display:flex;\n",
              "      flex-wrap:wrap;\n",
              "      gap: 12px;\n",
              "    }\n",
              "\n",
              "    .colab-df-convert {\n",
              "      background-color: #E8F0FE;\n",
              "      border: none;\n",
              "      border-radius: 50%;\n",
              "      cursor: pointer;\n",
              "      display: none;\n",
              "      fill: #1967D2;\n",
              "      height: 32px;\n",
              "      padding: 0 0 0 0;\n",
              "      width: 32px;\n",
              "    }\n",
              "\n",
              "    .colab-df-convert:hover {\n",
              "      background-color: #E2EBFA;\n",
              "      box-shadow: 0px 1px 2px rgba(60, 64, 67, 0.3), 0px 1px 3px 1px rgba(60, 64, 67, 0.15);\n",
              "      fill: #174EA6;\n",
              "    }\n",
              "\n",
              "    [theme=dark] .colab-df-convert {\n",
              "      background-color: #3B4455;\n",
              "      fill: #D2E3FC;\n",
              "    }\n",
              "\n",
              "    [theme=dark] .colab-df-convert:hover {\n",
              "      background-color: #434B5C;\n",
              "      box-shadow: 0px 1px 3px 1px rgba(0, 0, 0, 0.15);\n",
              "      filter: drop-shadow(0px 1px 2px rgba(0, 0, 0, 0.3));\n",
              "      fill: #FFFFFF;\n",
              "    }\n",
              "  </style>\n",
              "\n",
              "      <script>\n",
              "        const buttonEl =\n",
              "          document.querySelector('#df-06eab5a1-3d50-4d0e-9af4-200e88582fe0 button.colab-df-convert');\n",
              "        buttonEl.style.display =\n",
              "          google.colab.kernel.accessAllowed ? 'block' : 'none';\n",
              "\n",
              "        async function convertToInteractive(key) {\n",
              "          const element = document.querySelector('#df-06eab5a1-3d50-4d0e-9af4-200e88582fe0');\n",
              "          const dataTable =\n",
              "            await google.colab.kernel.invokeFunction('convertToInteractive',\n",
              "                                                     [key], {});\n",
              "          if (!dataTable) return;\n",
              "\n",
              "          const docLinkHtml = 'Like what you see? Visit the ' +\n",
              "            '<a target=\"_blank\" href=https://colab.research.google.com/notebooks/data_table.ipynb>data table notebook</a>'\n",
              "            + ' to learn more about interactive tables.';\n",
              "          element.innerHTML = '';\n",
              "          dataTable['output_type'] = 'display_data';\n",
              "          await google.colab.output.renderOutput(dataTable, element);\n",
              "          const docLink = document.createElement('div');\n",
              "          docLink.innerHTML = docLinkHtml;\n",
              "          element.appendChild(docLink);\n",
              "        }\n",
              "      </script>\n",
              "    </div>\n",
              "  </div>\n",
              "  "
            ]
          },
          "metadata": {},
          "execution_count": 4
        }
      ]
    },
    {
      "cell_type": "markdown",
      "source": [
        "#3. Data Processing"
      ],
      "metadata": {
        "id": "bE7lVs-0288k"
      }
    },
    {
      "cell_type": "markdown",
      "source": [
        "Split the data"
      ],
      "metadata": {
        "id": "cWFW0I7x20cT"
      }
    },
    {
      "cell_type": "code",
      "source": [
        "normal = df[df.Class == 0].sample(frac=0.5, random_state=2020).reset_index(drop=True)\n",
        "anomaly = df[df.Class == 1]\n",
        "\n",
        "#Test size\n",
        "print(f\"Normal: {normal.shape}\")\n",
        "print(f\"Anomaly: {anomaly.shape}\")"
      ],
      "metadata": {
        "id": "fjU4MPg_24Ms",
        "colab": {
          "base_uri": "https://localhost:8080/"
        },
        "outputId": "950f3a3f-c69e-4285-a1e5-cdd3b2941ed1"
      },
      "execution_count": 5,
      "outputs": [
        {
          "output_type": "stream",
          "name": "stdout",
          "text": [
            "Normal: (142158, 30)\n",
            "Anomaly: (492, 30)\n"
          ]
        }
      ]
    },
    {
      "cell_type": "code",
      "source": [
        "normal_train, normal_test = train_test_split(normal, test_size = 0.2, random_state = 2020)\n",
        "anomaly_train, anomaly_test = train_test_split (anomaly, test_size = 0.2, random_state = 2020)"
      ],
      "metadata": {
        "id": "LLnFQn4T3HBw"
      },
      "execution_count": 6,
      "outputs": []
    },
    {
      "cell_type": "code",
      "source": [
        "normal_train, normal_validate = train_test_split(normal_train, test_size = 0.25, random_state = 2020)\n",
        "anomaly_train, anomaly_validate = train_test_split (anomaly_train, test_size = 0.25, random_state = 2020)"
      ],
      "metadata": {
        "id": "Ha5D0fq43JJD"
      },
      "execution_count": 7,
      "outputs": []
    },
    {
      "cell_type": "markdown",
      "source": [
        "Define x-y splits."
      ],
      "metadata": {
        "id": "l869-LmMNcje"
      }
    },
    {
      "cell_type": "code",
      "source": [
        "x_train = pd.concat((normal_train, anomaly_train))\n",
        "x_test = pd.concat((normal_test, anomaly_test))\n",
        "x_validate = pd.concat((normal_validate, anomaly_validate))\n",
        "y_train = np.array(x_train[\"Class\"])\n",
        "y_test = np.array(x_test[\"Class\"])\n",
        "y_validate = np.array(x_validate[\"Class\"])"
      ],
      "metadata": {
        "id": "e9qEiDsnNe6p"
      },
      "execution_count": 8,
      "outputs": []
    },
    {
      "cell_type": "code",
      "source": [
        "x_train = x_train.drop(\"Class\", axis=1)\n",
        "x_test = x_test.drop(\"Class\", axis=1)\n",
        "x_validate = x_validate.drop(\"Class\", axis=1)"
      ],
      "metadata": {
        "id": "oLjz1DzWN248"
      },
      "execution_count": 9,
      "outputs": []
    },
    {
      "cell_type": "markdown",
      "source": [
        "Shapes of these sets"
      ],
      "metadata": {
        "id": "LwmrUonpN7_m"
      }
    },
    {
      "cell_type": "code",
      "source": [
        "print(\"Training sets:\\nx_train: {} \\ny_train:{}\".format(x_train.shape, y_train.shape))\n",
        "print(\"\\nTesting sets:\\nx_test: {} \\ny_test: {}\".format(x_test.shape, y_test.shape))\n",
        "print(\"\\nValidation sets:\\nx_validate: {} \\ny_validate: {}\". format(x_validate.shape, y_validate.shape))"
      ],
      "metadata": {
        "colab": {
          "base_uri": "https://localhost:8080/"
        },
        "id": "4NcdFe-tN9rv",
        "outputId": "941c76c0-37e0-4002-ec46-713ad2f7c888"
      },
      "execution_count": 10,
      "outputs": [
        {
          "output_type": "stream",
          "name": "stdout",
          "text": [
            "Training sets:\n",
            "x_train: (85588, 29) \n",
            "y_train:(85588,)\n",
            "\n",
            "Testing sets:\n",
            "x_test: (28531, 29) \n",
            "y_test: (28531,)\n",
            "\n",
            "Validation sets:\n",
            "x_validate: (28531, 29) \n",
            "y_validate: (28531,)\n"
          ]
        }
      ]
    },
    {
      "cell_type": "markdown",
      "source": [
        "Scale data using scikit-learn’s standard scaler"
      ],
      "metadata": {
        "id": "FDsDO-ruOG6X"
      }
    },
    {
      "cell_type": "code",
      "source": [
        "scaler = StandardScaler()\n",
        "scaler.fit(pd.concat((normal, anomaly)).drop(\"Class\", axis=1))\n",
        "x_train = scaler.transform(x_train)\n",
        "x_test = scaler.transform(x_test)\n",
        "x_validate = scaler.transform(x_validate)"
      ],
      "metadata": {
        "id": "O9jgvfgwOKKK"
      },
      "execution_count": 11,
      "outputs": []
    },
    {
      "cell_type": "markdown",
      "source": [
        "## Training and Evaluating with MLFlow\n",
        "\n",
        "Define train function."
      ],
      "metadata": {
        "id": "0LELGGGsOX8n"
      }
    },
    {
      "cell_type": "code",
      "source": [
        "def train(sk_model, x_train, y_train):\n",
        " sk_model = sk_model.fit(x_train, y_train)\n",
        " train_acc = sk_model.score(x_train, y_train)\n",
        "\n",
        " # MLflow track of train_acc metric in each run\n",
        " mlflow.log_metric(\"train_acc\", train_acc)\n",
        " print(f\"Train Accuracy: {train_acc:.3%}\")"
      ],
      "metadata": {
        "id": "r3h4nf63OfRC"
      },
      "execution_count": 12,
      "outputs": []
    },
    {
      "cell_type": "markdown",
      "source": [
        "Define evaluation function."
      ],
      "metadata": {
        "id": "_xdK4QjQO8qx"
      }
    },
    {
      "cell_type": "code",
      "source": [
        "def evaluate(sk_model, x_test, y_test):\n",
        " eval_acc = sk_model.score(x_test, y_test)\n",
        " preds = sk_model.predict(x_test)\n",
        " auc_score = roc_auc_score(y_test, preds)\n",
        "\n",
        " # MLFlow track\n",
        " mlflow.log_metric(\"eval_acc\", eval_acc)\n",
        " mlflow.log_metric(\"auc_score\", auc_score)\n",
        "\n",
        " print(f\"Auc Score: {auc_score:.3%}\")\n",
        " print(f\"Eval Accuracy: {eval_acc:.3%}\")\n",
        "\n",
        " roc_plot = plot_roc_curve(sk_model, x_test, y_test, name='Scikit-learn ROC Curve')\n",
        " plt.savefig(\"sklearn_roc_plot.png\")\n",
        " plt.show()\n",
        " plt.clf()\n",
        " conf_matrix = confusion_matrix(y_test, preds)\n",
        " ax = sns.heatmap(conf_matrix, annot=True,fmt='g')\n",
        " ax.invert_xaxis()\n",
        " ax.invert_yaxis()\n",
        " plt.ylabel('Actual')\n",
        " plt.xlabel('Predicted')\n",
        " plt.title(\"Confusion Matrix\")\n",
        " plt.savefig(\"sklearn_conf_matrix.png\")\n",
        "\n",
        " #MLFlow save images and graphics\n",
        " mlflow.log_artifact(\"sklearn_roc_plot.png\")\n",
        " mlflow.log_artifact(\"sklearn_conf_matrix.png\")"
      ],
      "metadata": {
        "id": "PVr5oE4UO_xN"
      },
      "execution_count": 13,
      "outputs": []
    },
    {
      "cell_type": "markdown",
      "source": [
        "Run MLFlow experiment."
      ],
      "metadata": {
        "id": "5o2zHR-BPxuP"
      }
    },
    {
      "cell_type": "code",
      "source": [
        "sk_model = LogisticRegression(random_state=None, max_iter=400, solver='newton-cg')\n",
        "\n",
        "mlflow.set_experiment(\"scikit_learn_experiment\")\n",
        "with mlflow.start_run():\n",
        " train(sk_model, x_train, y_train)\n",
        " evaluate(sk_model, x_test, y_test)\n",
        "\n",
        " #sk_model is saved as log_reg_model\n",
        " mlflow.sklearn.log_model(sk_model, \"log_reg_model\")\n",
        " # run tracking UI in the background\n",
        " get_ipython().system_raw(\"mlflow ui --port 5000 &\")\n",
        " print(\"Model run: \", mlflow.active_run().info.run_uuid)\n",
        "\n",
        "mlflow.end_run()"
      ],
      "metadata": {
        "colab": {
          "base_uri": "https://localhost:8080/",
          "height": 705
        },
        "id": "xCaljufNP0dP",
        "outputId": "a4d887de-0b83-4c8b-c03e-65ed947025f0"
      },
      "execution_count": 14,
      "outputs": [
        {
          "output_type": "stream",
          "name": "stderr",
          "text": [
            "2023/01/11 19:00:47 INFO mlflow.tracking.fluent: Experiment with name 'scikit_learn_experiment' does not exist. Creating a new experiment.\n"
          ]
        },
        {
          "output_type": "stream",
          "name": "stdout",
          "text": [
            "Train Accuracy: 99.893%\n",
            "Auc Score: 85.341%\n",
            "Eval Accuracy: 99.874%\n"
          ]
        },
        {
          "output_type": "stream",
          "name": "stderr",
          "text": [
            "/usr/local/lib/python3.8/dist-packages/sklearn/utils/deprecation.py:87: FutureWarning: Function plot_roc_curve is deprecated; Function :func:`plot_roc_curve` is deprecated in 1.0 and will be removed in 1.2. Use one of the class methods: :meth:`sklearn.metric.RocCurveDisplay.from_predictions` or :meth:`sklearn.metric.RocCurveDisplay.from_estimator`.\n",
            "  warnings.warn(msg, category=FutureWarning)\n"
          ]
        },
        {
          "output_type": "display_data",
          "data": {
            "text/plain": [
              "<Figure size 432x288 with 1 Axes>"
            ],
            "image/png": "[encoded data removed]"
          },
          "metadata": {
            "needs_background": "light"
          }
        },
        {
          "output_type": "stream",
          "name": "stdout",
          "text": [
            "Model run:  884f69e5d9dd4a869c3dc95758b143e9\n"
          ]
        },
        {
          "output_type": "display_data",
          "data": {
            "text/plain": [
              "<Figure size 432x288 with 2 Axes>"
            ],
            "image/png": "[encoded data removed]"
          },
          "metadata": {
            "needs_background": "light"
          }
        }
      ]
    },
    {
      "cell_type": "code",
      "source": [
        "# create remote tunnel using ngrok.com to allow local port access\n",
        "# borrowed from https://colab.research.google.com/github/alfozan/MLflow-GBRT-demo/blob/master/MLflow-GBRT-demo.ipynb#scrollTo=4h3bKHMYUIG6\n",
        "!pip install pyngrok --quiet\n",
        "from pyngrok import ngrok\n",
        "\n",
        "# Terminate open tunnels if exist\n",
        "ngrok.kill()\n",
        "\n",
        "# Setting the authtoken (optional)\n",
        "# Get your authtoken from https://dashboard.ngrok.com/auth\n",
        "#NGROK_AUTH_TOKEN = \"\"\n",
        "#ngrok.set_auth_token(NGROK_AUTH_TOKEN)\n",
        "\n",
        "# Open an HTTPs tunnel on port 5000 for http://localhost:5000\n",
        "public_url = ngrok.connect(port=\"5000\", proto=\"http\", options={\"bind_tls\": True})\n",
        "print(\"MLflow Tracking UI:\", public_url)"
      ],
      "metadata": {
        "colab": {
          "base_uri": "https://localhost:8080/"
        },
        "id": "9sF_ZGuSTEJT",
        "outputId": "4321767a-248d-4a3a-86b0-59c0e9dd0bd1"
      },
      "execution_count": 15,
      "outputs": [
        {
          "output_type": "stream",
          "name": "stdout",
          "text": [
            "\u001b[?25l     \u001b[90m━━━━━━━━━━━━━━━━━━━━━━━━━━━━━━━━━━━━━━━━\u001b[0m \u001b[32m0.0/761.3 KB\u001b[0m \u001b[31m?\u001b[0m eta \u001b[36m-:--:--\u001b[0m\r\u001b[2K     \u001b[91m━━━━━━━━━━━━━━━━━━━━━━━━━━━━━\u001b[0m\u001b[90m╺\u001b[0m\u001b[90m━━━━━━━━\u001b[0m \u001b[32m583.7/761.3 KB\u001b[0m \u001b[31m17.4 MB/s\u001b[0m eta \u001b[36m0:00:01\u001b[0m\r\u001b[2K     \u001b[90m━━━━━━━━━━━━━━━━━━━━━━━━━━━━━━━━━━━━━━\u001b[0m \u001b[32m761.3/761.3 KB\u001b[0m \u001b[31m14.9 MB/s\u001b[0m eta \u001b[36m0:00:00\u001b[0m\n",
            "\u001b[?25h  Preparing metadata (setup.py) ... \u001b[?25l\u001b[?25hdone\n",
            "  Building wheel for pyngrok (setup.py) ... \u001b[?25l\u001b[?25hdone\n",
            "MLflow Tracking UI: NgrokTunnel: \"http://cfeb-35-197-105-97.ngrok.io\" -> \"http://localhost:80\"\n"
          ]
        }
      ]
    },
    {
      "cell_type": "markdown",
      "source": [
        "Load model from MLFlow"
      ],
      "metadata": {
        "id": "RWjbmuNjn6Lj"
      }
    },
    {
      "cell_type": "code",
      "source": [
        "#loaded_model = mlflow.sklearn.load_model(\"runs:/YOUR_RUNID_HERE/log_reg_model\")\n",
        "#loaded_model.score(x_test, y_test)"
      ],
      "metadata": {
        "id": "QgcJx535n5xi"
      },
      "execution_count": 16,
      "outputs": []
    },
    {
      "cell_type": "markdown",
      "source": [
        "##Model Validation (Parameter Tuning) with MLFlow"
      ],
      "metadata": {
        "id": "_2_OSe2_oQYf"
      }
    },
    {
      "cell_type": "code",
      "source": [
        "anomaly_weights = [1, 5, 10, 15]\n",
        "num_folds = 5\n",
        "kfold = KFold(n_splits=num_folds, shuffle=True, random_state=2020)"
      ],
      "metadata": {
        "id": "cvBV-EXHpjEj"
      },
      "execution_count": 17,
      "outputs": []
    },
    {
      "cell_type": "code",
      "source": [
        "# Define validation script\n",
        "mlflow.set_experiment(\"sklearn_creditcard_broad_search\")\n",
        "logs = []\n",
        "\n",
        "for f in range(len(anomaly_weights)):\n",
        "    fold = 1\n",
        "    accuracies = []\n",
        "    auc_scores= []\n",
        "    for train, test in kfold.split(x_validate, y_validate):\n",
        "        weight = anomaly_weights[f]\n",
        "        class_weights= {0:1, 1: weight}\n",
        "        sk_model = LogisticRegression(random_state=None, max_iter=400, solver='newton-cg', class_weight=class_weights).fit(x_validate[train], y_validate[train])\n",
        "        \n",
        "        for h in range(40): print('-', end=\"\")\n",
        "        print(f\"\\nfold {fold}\\nAnomaly Weight: {weight}\")\n",
        "        train_acc = sk_model.score(x_validate[train], y_validate[train])\n",
        "        mlflow.log_metric(\"train_acc\", train_acc)\n",
        "\n",
        "        eval_acc = sk_model.score(x_validate[test], y_validate[test])\n",
        "        preds = sk_model.predict(x_validate[test])\n",
        "\n",
        "        mlflow.log_metric(\"eval_acc\", eval_acc)\n",
        "        try:\n",
        "            auc_score = roc_auc_score(y_validate[test], preds)\n",
        "        except:\n",
        "            auc_score = -1\n",
        "        \n",
        "        mlflow.log_metric(\"auc_score\", auc_score)\n",
        "      \n",
        "        print(\"AUC: {}\\neval_acc: {}\".format(auc_score, eval_acc))\n",
        "      \n",
        "        accuracies.append(eval_acc)\n",
        "        auc_scores.append(auc_score)\n",
        "      \n",
        "        log = [sk_model, x_validate[test], y_validate[test], preds]\n",
        "        logs.append(log)\n",
        "\n",
        "        mlflow.sklearn.log_model(sk_model, f\"anom_weight_{weight}_fold_{fold}\")\n",
        "        fold = fold + 1\n",
        "\n",
        "    print(\"\\nAverages: \")\n",
        "    print(\"Accuracy: \", np.mean(accuracies))\n",
        "    print(\"AUC: \", np.mean(auc_scores))\n",
        "    print(\"Best: \")\n",
        "    print(\"Accuracy: \", np.max(accuracies))\n",
        "    print(\"AUC: \", np.max(auc_scores))"
      ],
      "metadata": {
        "colab": {
          "base_uri": "https://localhost:8080/"
        },
        "id": "bd02toE2pvpC",
        "outputId": "eb855d94-72a1-43b4-f173-f481a387d257"
      },
      "execution_count": 18,
      "outputs": [
        {
          "output_type": "stream",
          "name": "stderr",
          "text": [
            "2023/01/11 19:01:05 INFO mlflow.tracking.fluent: Experiment with name 'sklearn_creditcard_broad_search' does not exist. Creating a new experiment.\n"
          ]
        },
        {
          "output_type": "stream",
          "name": "stdout",
          "text": [
            "----------------------------------------\n",
            "fold 1\n",
            "Anomaly Weight: 1\n",
            "AUC: 0.8\n",
            "eval_acc: 0.9985982127212195\n",
            "----------------------------------------\n",
            "fold 2\n",
            "Anomaly Weight: 1\n",
            "AUC: 0.8568790049001132\n",
            "eval_acc: 0.998422712933754\n",
            "----------------------------------------\n",
            "fold 3\n",
            "Anomaly Weight: 1\n",
            "AUC: 0.8406451922461774\n",
            "eval_acc: 0.9982474588152822\n",
            "----------------------------------------\n",
            "fold 4\n",
            "Anomaly Weight: 1\n",
            "AUC: 0.8682452129973255\n",
            "eval_acc: 0.9987732211706976\n",
            "----------------------------------------\n",
            "fold 5\n",
            "Anomaly Weight: 1\n",
            "AUC: 0.8528532875621686\n",
            "eval_acc: 0.9989484752891693\n",
            "\n",
            "Averages: \n",
            "Accuracy:  0.9985980161860246\n",
            "AUC:  0.8437245395411569\n",
            "Best: \n",
            "Accuracy:  0.9989484752891693\n",
            "AUC:  0.8682452129973255\n",
            "----------------------------------------\n",
            "fold 1\n",
            "Anomaly Weight: 5\n",
            "AUC: 0.8748241603657465\n",
            "eval_acc: 0.9987734361310671\n",
            "----------------------------------------\n",
            "fold 2\n",
            "Anomaly Weight: 5\n",
            "AUC: 0.975398919462244\n",
            "eval_acc: 0.9982474588152822\n",
            "----------------------------------------\n",
            "fold 3\n",
            "Anomaly Weight: 5\n",
            "AUC: 0.9314663169342972\n",
            "eval_acc: 0.9987732211706976\n",
            "----------------------------------------\n",
            "fold 4\n",
            "Anomaly Weight: 5\n",
            "AUC: 0.8943851628367561\n",
            "eval_acc: 0.9985979670522257\n",
            "----------------------------------------\n",
            "fold 5\n",
            "Anomaly Weight: 5\n",
            "AUC: 0.8820013855427915\n",
            "eval_acc: 0.9985979670522257\n",
            "\n",
            "Averages: \n",
            "Accuracy:  0.9985980100442996\n",
            "AUC:  0.9116151890283671\n",
            "Best: \n",
            "Accuracy:  0.9987734361310671\n",
            "AUC:  0.975398919462244\n",
            "----------------------------------------\n",
            "fold 1\n",
            "Anomaly Weight: 10\n",
            "AUC: 0.9243845612801126\n",
            "eval_acc: 0.9982477659015244\n",
            "----------------------------------------\n",
            "fold 2\n",
            "Anomaly Weight: 10\n",
            "AUC: 0.9753109687146626\n",
            "eval_acc: 0.9980722046968104\n",
            "----------------------------------------\n",
            "fold 3\n",
            "Anomaly Weight: 10\n",
            "AUC: 0.9313783507133262\n",
            "eval_acc: 0.9985979670522257\n",
            "----------------------------------------\n",
            "fold 4\n",
            "Anomaly Weight: 10\n",
            "AUC: 0.8943851628367561\n",
            "eval_acc: 0.9985979670522257\n",
            "----------------------------------------\n",
            "fold 5\n",
            "Anomaly Weight: 10\n",
            "AUC: 0.8820013855427915\n",
            "eval_acc: 0.9985979670522257\n",
            "\n",
            "Averages: \n",
            "Accuracy:  0.9984227743510024\n",
            "AUC:  0.9214920858175297\n",
            "Best: \n",
            "Accuracy:  0.9985979670522257\n",
            "AUC:  0.9753109687146626\n",
            "----------------------------------------\n",
            "fold 1\n",
            "Anomaly Weight: 15\n",
            "AUC: 0.9242966414629858\n",
            "eval_acc: 0.9980725424916769\n",
            "----------------------------------------\n",
            "fold 2\n",
            "Anomaly Weight: 15\n",
            "AUC: 0.9751350672194998\n",
            "eval_acc: 0.9977216964598669\n",
            "----------------------------------------\n",
            "fold 3\n",
            "Anomaly Weight: 15\n",
            "AUC: 0.9312903844923551\n",
            "eval_acc: 0.998422712933754\n",
            "----------------------------------------\n",
            "fold 4\n",
            "Anomaly Weight: 15\n",
            "AUC: 0.8940334835682489\n",
            "eval_acc: 0.9978969505783386\n",
            "----------------------------------------\n",
            "fold 5\n",
            "Anomaly Weight: 15\n",
            "AUC: 0.8813861631838532\n",
            "eval_acc: 0.9973711882229233\n",
            "\n",
            "Averages: \n",
            "Accuracy:  0.9978970181373118\n",
            "AUC:  0.9212283479853886\n",
            "Best: \n",
            "Accuracy:  0.998422712933754\n",
            "AUC:  0.9751350672194998\n"
          ]
        }
      ]
    },
    {
      "cell_type": "markdown",
      "source": [
        "##Parameter Tuning – Guided Search with MLFlow"
      ],
      "metadata": {
        "id": "V1J5lqU-ajwk"
      }
    },
    {
      "cell_type": "code",
      "source": [
        "anomaly_weights = [10, 50, 100, 150, 200]\n",
        "num_folds = 5\n",
        "kfold = KFold(n_splits=num_folds, shuffle=True, random_state=2020)"
      ],
      "metadata": {
        "id": "wTognrHDaUdo"
      },
      "execution_count": 19,
      "outputs": []
    },
    {
      "cell_type": "code",
      "source": [
        "# Define validation script\n",
        "mlflow.set_experiment(\"sklearn_creditcard_guided_search\")\n",
        "logs = []\n",
        "\n",
        "for f in range(len(anomaly_weights)):\n",
        "    fold = 1\n",
        "    accuracies = []\n",
        "    auc_scores= []\n",
        "    for train, test in kfold.split(x_validate, y_validate):\n",
        "        weight = anomaly_weights[f]\n",
        "        class_weights= {0:1, 1: weight}\n",
        "        sk_model = LogisticRegression(random_state=None, max_iter=400, solver='newton-cg', class_weight=class_weights).fit(x_validate[train], y_validate[train])\n",
        "        \n",
        "        for h in range(40): print('-', end=\"\")\n",
        "        print(f\"\\nfold {fold}\\nAnomaly Weight: {weight}\")\n",
        "        train_acc = sk_model.score(x_validate[train], y_validate[train])\n",
        "        mlflow.log_metric(\"train_acc\", train_acc)\n",
        "\n",
        "        eval_acc = sk_model.score(x_validate[test], y_validate[test])\n",
        "        preds = sk_model.predict(x_validate[test])\n",
        "\n",
        "        mlflow.log_metric(\"eval_acc\", eval_acc)\n",
        "        try:\n",
        "            auc_score = roc_auc_score(y_validate[test], preds)\n",
        "        except:\n",
        "            auc_score = -1\n",
        "        \n",
        "        mlflow.log_metric(\"auc_score\", auc_score)\n",
        "      \n",
        "        print(\"AUC: {}\\neval_acc: {}\".format(auc_score, eval_acc))\n",
        "      \n",
        "        accuracies.append(eval_acc)\n",
        "        auc_scores.append(auc_score)\n",
        "      \n",
        "        log = [sk_model, x_validate[test], y_validate[test], preds]\n",
        "        logs.append(log)\n",
        "\n",
        "        mlflow.sklearn.log_model(sk_model, f\"anom_weight_{weight}_fold_{fold}\")\n",
        "        fold = fold + 1\n",
        "\n",
        "    print(\"\\nAverages: \")\n",
        "    print(\"Accuracy: \", np.mean(accuracies))\n",
        "    print(\"AUC: \", np.mean(auc_scores))\n",
        "    print(\"Best: \")\n",
        "    print(\"Accuracy: \", np.max(accuracies))\n",
        "    print(\"AUC: \", np.max(auc_scores))"
      ],
      "metadata": {
        "colab": {
          "base_uri": "https://localhost:8080/"
        },
        "id": "3b3PuGp_ai1A",
        "outputId": "a7b8e0d8-eefb-4b6e-8569-0a9a357513bb"
      },
      "execution_count": 20,
      "outputs": [
        {
          "output_type": "stream",
          "name": "stderr",
          "text": [
            "2023/01/11 20:00:05 INFO mlflow.tracking.fluent: Experiment with name 'sklearn_creditcard_guided_search' does not exist. Creating a new experiment.\n"
          ]
        },
        {
          "output_type": "stream",
          "name": "stdout",
          "text": [
            "----------------------------------------\n",
            "fold 1\n",
            "Anomaly Weight: 10\n",
            "AUC: 0.9243845612801126\n",
            "eval_acc: 0.9982477659015244\n",
            "----------------------------------------\n",
            "fold 2\n",
            "Anomaly Weight: 10\n",
            "AUC: 0.9753109687146626\n",
            "eval_acc: 0.9980722046968104\n",
            "----------------------------------------\n",
            "fold 3\n",
            "Anomaly Weight: 10\n",
            "AUC: 0.9313783507133262\n",
            "eval_acc: 0.9985979670522257\n",
            "----------------------------------------\n",
            "fold 4\n",
            "Anomaly Weight: 10\n",
            "AUC: 0.8943851628367561\n",
            "eval_acc: 0.9985979670522257\n",
            "----------------------------------------\n",
            "fold 5\n",
            "Anomaly Weight: 10\n",
            "AUC: 0.8820013855427915\n",
            "eval_acc: 0.9985979670522257\n",
            "\n",
            "Averages: \n",
            "Accuracy:  0.9984227743510024\n",
            "AUC:  0.9214920858175297\n",
            "Best: \n",
            "Accuracy:  0.9985979670522257\n",
            "AUC:  0.9753109687146626\n",
            "----------------------------------------\n",
            "fold 1\n",
            "Anomaly Weight: 50\n",
            "AUC: 0.922626164937577\n",
            "eval_acc: 0.9947432977045734\n",
            "----------------------------------------\n",
            "fold 2\n",
            "Anomaly Weight: 50\n",
            "AUC: 0.9734640030154541\n",
            "eval_acc: 0.9943918682089029\n",
            "----------------------------------------\n",
            "fold 3\n",
            "Anomaly Weight: 50\n",
            "AUC: 0.9296190262939033\n",
            "eval_acc: 0.99509288468279\n",
            "----------------------------------------\n",
            "fold 4\n",
            "Anomaly Weight: 50\n",
            "AUC: 0.9183271172480171\n",
            "eval_acc: 0.9940413599719593\n",
            "----------------------------------------\n",
            "fold 5\n",
            "Anomaly Weight: 50\n",
            "AUC: 0.8797162739238779\n",
            "eval_acc: 0.9940413599719593\n",
            "\n",
            "Averages: \n",
            "Accuracy:  0.994462154108037\n",
            "AUC:  0.9247505170837659\n",
            "Best: \n",
            "Accuracy:  0.99509288468279\n",
            "AUC:  0.9734640030154541\n",
            "----------------------------------------\n",
            "fold 1\n",
            "Anomaly Weight: 100\n",
            "AUC: 0.9205160893265342\n",
            "eval_acc: 0.990537935868232\n",
            "----------------------------------------\n",
            "fold 2\n",
            "Anomaly Weight: 100\n",
            "AUC: 0.9951627088830255\n",
            "eval_acc: 0.9903610234840519\n",
            "----------------------------------------\n",
            "fold 3\n",
            "Anomaly Weight: 100\n",
            "AUC: 0.9268920734437976\n",
            "eval_acc: 0.9896600070101648\n",
            "----------------------------------------\n",
            "fold 4\n",
            "Anomaly Weight: 100\n",
            "AUC: 0.9429724301962926\n",
            "eval_acc: 0.9908867858394672\n",
            "----------------------------------------\n",
            "fold 5\n",
            "Anomaly Weight: 100\n",
            "AUC: 0.8777827179386432\n",
            "eval_acc: 0.9901857693655801\n",
            "\n",
            "Averages: \n",
            "Accuracy:  0.9903263043134993\n",
            "AUC:  0.9326652039576586\n",
            "Best: \n",
            "Accuracy:  0.9908867858394672\n",
            "AUC:  0.9951627088830255\n",
            "----------------------------------------\n",
            "fold 1\n",
            "Anomaly Weight: 150\n",
            "AUC: 0.9186697731668719\n",
            "eval_acc: 0.9868582442614333\n",
            "----------------------------------------\n",
            "fold 2\n",
            "Anomaly Weight: 150\n",
            "AUC: 0.9927000879507476\n",
            "eval_acc: 0.985453908166842\n",
            "----------------------------------------\n",
            "fold 3\n",
            "Anomaly Weight: 150\n",
            "AUC: 0.9247808841404901\n",
            "eval_acc: 0.985453908166842\n",
            "----------------------------------------\n",
            "fold 4\n",
            "Anomaly Weight: 150\n",
            "AUC: 0.9411261140366303\n",
            "eval_acc: 0.9872064493515598\n",
            "----------------------------------------\n",
            "fold 5\n",
            "Anomaly Weight: 150\n",
            "AUC: 0.9053488155677106\n",
            "eval_acc: 0.9866806869961444\n",
            "\n",
            "Averages: \n",
            "Accuracy:  0.9863306393885642\n",
            "AUC:  0.93652513497249\n",
            "Best: \n",
            "Accuracy:  0.9872064493515598\n",
            "AUC:  0.9927000879507476\n",
            "----------------------------------------\n",
            "fold 1\n",
            "Anomaly Weight: 200\n",
            "AUC: 0.9427026551784772\n",
            "eval_acc: 0.9851060101629577\n",
            "----------------------------------------\n",
            "fold 2\n",
            "Anomaly Weight: 200\n",
            "AUC: 0.9904133685136324\n",
            "eval_acc: 0.9808973010865756\n",
            "----------------------------------------\n",
            "fold 3\n",
            "Anomaly Weight: 200\n",
            "AUC: 0.9226696948371826\n",
            "eval_acc: 0.9812478093235191\n",
            "----------------------------------------\n",
            "fold 4\n",
            "Anomaly Weight: 200\n",
            "AUC: 0.9391039582427143\n",
            "eval_acc: 0.9831756046267087\n",
            "----------------------------------------\n",
            "fold 5\n",
            "Anomaly Weight: 200\n",
            "AUC: 0.9029758150403772\n",
            "eval_acc: 0.9819488257974063\n",
            "\n",
            "Averages: \n",
            "Accuracy:  0.9824751101994336\n",
            "AUC:  0.9395730983624768\n",
            "Best: \n",
            "Accuracy:  0.9851060101629577\n",
            "AUC:  0.9904133685136324\n"
          ]
        }
      ]
    }
  ]
}